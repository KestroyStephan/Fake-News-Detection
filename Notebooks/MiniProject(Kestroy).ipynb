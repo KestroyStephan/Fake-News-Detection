{
  "nbformat": 4,
  "nbformat_minor": 0,
  "metadata": {
    "colab": {
      "provenance": []
    },
    "kernelspec": {
      "name": "python3",
      "display_name": "Python 3"
    },
    "language_info": {
      "name": "python"
    }
  },
  "cells": [
    {
      "cell_type": "markdown",
      "source": [
        "**Imports for Loading**"
      ],
      "metadata": {
        "id": "_6jN5wqIaR0-"
      }
    },
    {
      "cell_type": "code",
      "source": [
        "import pandas as pd\n",
        "import numpy as np\n",
        "import re\n",
        "import string\n",
        "import matplotlib.pyplot as plt\n",
        "import seaborn as sns\n",
        "\n",
        "# Natural Language Processing helpers\n",
        "import nltk\n",
        "nltk.download('punkt')\n",
        "nltk.download('stopwords')\n",
        "from nltk.corpus import stopwords\n",
        "STOPWORDS = set(stopwords.words('english'))"
      ],
      "metadata": {
        "colab": {
          "base_uri": "https://localhost:8080/"
        },
        "id": "XJHMafs3avDr",
        "outputId": "3751178a-cc84-4d31-d951-11f4d82da43c"
      },
      "execution_count": 5,
      "outputs": [
        {
          "output_type": "stream",
          "name": "stderr",
          "text": [
            "[nltk_data] Downloading package punkt to /root/nltk_data...\n",
            "[nltk_data]   Package punkt is already up-to-date!\n",
            "[nltk_data] Downloading package stopwords to /root/nltk_data...\n",
            "[nltk_data]   Package stopwords is already up-to-date!\n"
          ]
        }
      ]
    },
    {
      "cell_type": "markdown",
      "source": [
        "**1. Identify The Problem**"
      ],
      "metadata": {
        "id": "5jiV57NIbGPO"
      }
    },
    {
      "cell_type": "markdown",
      "source": [
        "There is a significant problem with the immediate propagation of false or misinformed messages on applications such as WhatsApp, SMS and social media. They consist of short, informal messages that can hardly be found by applying the traditional methods and result in missed threats or falsely identified flags. With increased digital communication, unrestricted proliferation of incorrect messages may lead to widespread confusion in the population, panic, manipulation, and loss of money and, therefore, timely and correct identification is required.\n"
      ],
      "metadata": {
        "id": "4ovsA_KUbNo9"
      }
    },
    {
      "cell_type": "markdown",
      "source": [
        "**2. Data Understanding**"
      ],
      "metadata": {
        "id": "EaWsKs__cLWd"
      }
    },
    {
      "cell_type": "markdown",
      "source": [
        "**2.1 Data Collection**"
      ],
      "metadata": {
        "id": "pwxRsFkvcXv-"
      }
    },
    {
      "cell_type": "code",
      "source": [
        "# Data Loading\n",
        "data_fake = pd.read_csv(\"Fake.csv\", engine='python', on_bad_lines='skip')\n",
        "data_real = pd.read_csv(\"True.csv\", engine='python', on_bad_lines='skip' )"
      ],
      "metadata": {
        "id": "LmNHuQwNck6g"
      },
      "execution_count": 6,
      "outputs": []
    },
    {
      "cell_type": "code",
      "source": [
        "# Add label to the data\n",
        "data_fake['label'] = 'FAKE'\n",
        "data_real['label'] = 'REAL'"
      ],
      "metadata": {
        "id": "T4SBWJ9XlyL9"
      },
      "execution_count": 7,
      "outputs": []
    },
    {
      "cell_type": "code",
      "source": [
        "# Merge the Datasets\n",
        "dataset = pd.concat([data_fake, data_real], ignore_index=True)"
      ],
      "metadata": {
        "id": "LCkNLrqJlzR9"
      },
      "execution_count": 8,
      "outputs": []
    },
    {
      "cell_type": "markdown",
      "source": [
        "**2.2 Initial Overview**"
      ],
      "metadata": {
        "id": "FsS7CwYshTKk"
      }
    },
    {
      "cell_type": "code",
      "source": [
        "# Quick look\n",
        "print(dataset.shape)\n",
        "display(dataset.head())\n"
      ],
      "metadata": {
        "colab": {
          "base_uri": "https://localhost:8080/",
          "height": 223
        },
        "id": "OqV5EGM_hdcU",
        "outputId": "cfc9d8b4-af94-4220-af8c-c255eb8fcc01"
      },
      "execution_count": 9,
      "outputs": [
        {
          "output_type": "stream",
          "name": "stdout",
          "text": [
            "(4866, 5)\n"
          ]
        },
        {
          "output_type": "display_data",
          "data": {
            "text/plain": [
              "                                               title  \\\n",
              "0   Donald Trump Sends Out Embarrassing New Year’...   \n",
              "1   Drunk Bragging Trump Staffer Started Russian ...   \n",
              "2   Sheriff David Clarke Becomes An Internet Joke...   \n",
              "3   Trump Is So Obsessed He Even Has Obama’s Name...   \n",
              "4   Pope Francis Just Called Out Donald Trump Dur...   \n",
              "\n",
              "                                                text subject  \\\n",
              "0  Donald Trump just couldn t wish all Americans ...    News   \n",
              "1  House Intelligence Committee Chairman Devin Nu...    News   \n",
              "2  On Friday, it was revealed that former Milwauk...    News   \n",
              "3  On Christmas day, Donald Trump announced that ...    News   \n",
              "4  Pope Francis used his annual Christmas Day mes...    News   \n",
              "\n",
              "                date label  \n",
              "0  December 31, 2017  FAKE  \n",
              "1  December 31, 2017  FAKE  \n",
              "2  December 30, 2017  FAKE  \n",
              "3  December 29, 2017  FAKE  \n",
              "4  December 25, 2017  FAKE  "
            ],
            "text/html": [
              "\n",
              "  <div id=\"df-ad91e549-c14d-4882-9b14-c3232251c8ca\" class=\"colab-df-container\">\n",
              "    <div>\n",
              "<style scoped>\n",
              "    .dataframe tbody tr th:only-of-type {\n",
              "        vertical-align: middle;\n",
              "    }\n",
              "\n",
              "    .dataframe tbody tr th {\n",
              "        vertical-align: top;\n",
              "    }\n",
              "\n",
              "    .dataframe thead th {\n",
              "        text-align: right;\n",
              "    }\n",
              "</style>\n",
              "<table border=\"1\" class=\"dataframe\">\n",
              "  <thead>\n",
              "    <tr style=\"text-align: right;\">\n",
              "      <th></th>\n",
              "      <th>title</th>\n",
              "      <th>text</th>\n",
              "      <th>subject</th>\n",
              "      <th>date</th>\n",
              "      <th>label</th>\n",
              "    </tr>\n",
              "  </thead>\n",
              "  <tbody>\n",
              "    <tr>\n",
              "      <th>0</th>\n",
              "      <td>Donald Trump Sends Out Embarrassing New Year’...</td>\n",
              "      <td>Donald Trump just couldn t wish all Americans ...</td>\n",
              "      <td>News</td>\n",
              "      <td>December 31, 2017</td>\n",
              "      <td>FAKE</td>\n",
              "    </tr>\n",
              "    <tr>\n",
              "      <th>1</th>\n",
              "      <td>Drunk Bragging Trump Staffer Started Russian ...</td>\n",
              "      <td>House Intelligence Committee Chairman Devin Nu...</td>\n",
              "      <td>News</td>\n",
              "      <td>December 31, 2017</td>\n",
              "      <td>FAKE</td>\n",
              "    </tr>\n",
              "    <tr>\n",
              "      <th>2</th>\n",
              "      <td>Sheriff David Clarke Becomes An Internet Joke...</td>\n",
              "      <td>On Friday, it was revealed that former Milwauk...</td>\n",
              "      <td>News</td>\n",
              "      <td>December 30, 2017</td>\n",
              "      <td>FAKE</td>\n",
              "    </tr>\n",
              "    <tr>\n",
              "      <th>3</th>\n",
              "      <td>Trump Is So Obsessed He Even Has Obama’s Name...</td>\n",
              "      <td>On Christmas day, Donald Trump announced that ...</td>\n",
              "      <td>News</td>\n",
              "      <td>December 29, 2017</td>\n",
              "      <td>FAKE</td>\n",
              "    </tr>\n",
              "    <tr>\n",
              "      <th>4</th>\n",
              "      <td>Pope Francis Just Called Out Donald Trump Dur...</td>\n",
              "      <td>Pope Francis used his annual Christmas Day mes...</td>\n",
              "      <td>News</td>\n",
              "      <td>December 25, 2017</td>\n",
              "      <td>FAKE</td>\n",
              "    </tr>\n",
              "  </tbody>\n",
              "</table>\n",
              "</div>\n",
              "    <div class=\"colab-df-buttons\">\n",
              "\n",
              "  <div class=\"colab-df-container\">\n",
              "    <button class=\"colab-df-convert\" onclick=\"convertToInteractive('df-ad91e549-c14d-4882-9b14-c3232251c8ca')\"\n",
              "            title=\"Convert this dataframe to an interactive table.\"\n",
              "            style=\"display:none;\">\n",
              "\n",
              "  <svg xmlns=\"http://www.w3.org/2000/svg\" height=\"24px\" viewBox=\"0 -960 960 960\">\n",
              "    <path d=\"M120-120v-720h720v720H120Zm60-500h600v-160H180v160Zm220 220h160v-160H400v160Zm0 220h160v-160H400v160ZM180-400h160v-160H180v160Zm440 0h160v-160H620v160ZM180-180h160v-160H180v160Zm440 0h160v-160H620v160Z\"/>\n",
              "  </svg>\n",
              "    </button>\n",
              "\n",
              "  <style>\n",
              "    .colab-df-container {\n",
              "      display:flex;\n",
              "      gap: 12px;\n",
              "    }\n",
              "\n",
              "    .colab-df-convert {\n",
              "      background-color: #E8F0FE;\n",
              "      border: none;\n",
              "      border-radius: 50%;\n",
              "      cursor: pointer;\n",
              "      display: none;\n",
              "      fill: #1967D2;\n",
              "      height: 32px;\n",
              "      padding: 0 0 0 0;\n",
              "      width: 32px;\n",
              "    }\n",
              "\n",
              "    .colab-df-convert:hover {\n",
              "      background-color: #E2EBFA;\n",
              "      box-shadow: 0px 1px 2px rgba(60, 64, 67, 0.3), 0px 1px 3px 1px rgba(60, 64, 67, 0.15);\n",
              "      fill: #174EA6;\n",
              "    }\n",
              "\n",
              "    .colab-df-buttons div {\n",
              "      margin-bottom: 4px;\n",
              "    }\n",
              "\n",
              "    [theme=dark] .colab-df-convert {\n",
              "      background-color: #3B4455;\n",
              "      fill: #D2E3FC;\n",
              "    }\n",
              "\n",
              "    [theme=dark] .colab-df-convert:hover {\n",
              "      background-color: #434B5C;\n",
              "      box-shadow: 0px 1px 3px 1px rgba(0, 0, 0, 0.15);\n",
              "      filter: drop-shadow(0px 1px 2px rgba(0, 0, 0, 0.3));\n",
              "      fill: #FFFFFF;\n",
              "    }\n",
              "  </style>\n",
              "\n",
              "    <script>\n",
              "      const buttonEl =\n",
              "        document.querySelector('#df-ad91e549-c14d-4882-9b14-c3232251c8ca button.colab-df-convert');\n",
              "      buttonEl.style.display =\n",
              "        google.colab.kernel.accessAllowed ? 'block' : 'none';\n",
              "\n",
              "      async function convertToInteractive(key) {\n",
              "        const element = document.querySelector('#df-ad91e549-c14d-4882-9b14-c3232251c8ca');\n",
              "        const dataTable =\n",
              "          await google.colab.kernel.invokeFunction('convertToInteractive',\n",
              "                                                    [key], {});\n",
              "        if (!dataTable) return;\n",
              "\n",
              "        const docLinkHtml = 'Like what you see? Visit the ' +\n",
              "          '<a target=\"_blank\" href=https://colab.research.google.com/notebooks/data_table.ipynb>data table notebook</a>'\n",
              "          + ' to learn more about interactive tables.';\n",
              "        element.innerHTML = '';\n",
              "        dataTable['output_type'] = 'display_data';\n",
              "        await google.colab.output.renderOutput(dataTable, element);\n",
              "        const docLink = document.createElement('div');\n",
              "        docLink.innerHTML = docLinkHtml;\n",
              "        element.appendChild(docLink);\n",
              "      }\n",
              "    </script>\n",
              "  </div>\n",
              "\n",
              "\n",
              "    <div id=\"df-abe2308f-951b-4f0e-9490-06fd2a9e0366\">\n",
              "      <button class=\"colab-df-quickchart\" onclick=\"quickchart('df-abe2308f-951b-4f0e-9490-06fd2a9e0366')\"\n",
              "                title=\"Suggest charts\"\n",
              "                style=\"display:none;\">\n",
              "\n",
              "<svg xmlns=\"http://www.w3.org/2000/svg\" height=\"24px\"viewBox=\"0 0 24 24\"\n",
              "     width=\"24px\">\n",
              "    <g>\n",
              "        <path d=\"M19 3H5c-1.1 0-2 .9-2 2v14c0 1.1.9 2 2 2h14c1.1 0 2-.9 2-2V5c0-1.1-.9-2-2-2zM9 17H7v-7h2v7zm4 0h-2V7h2v10zm4 0h-2v-4h2v4z\"/>\n",
              "    </g>\n",
              "</svg>\n",
              "      </button>\n",
              "\n",
              "<style>\n",
              "  .colab-df-quickchart {\n",
              "      --bg-color: #E8F0FE;\n",
              "      --fill-color: #1967D2;\n",
              "      --hover-bg-color: #E2EBFA;\n",
              "      --hover-fill-color: #174EA6;\n",
              "      --disabled-fill-color: #AAA;\n",
              "      --disabled-bg-color: #DDD;\n",
              "  }\n",
              "\n",
              "  [theme=dark] .colab-df-quickchart {\n",
              "      --bg-color: #3B4455;\n",
              "      --fill-color: #D2E3FC;\n",
              "      --hover-bg-color: #434B5C;\n",
              "      --hover-fill-color: #FFFFFF;\n",
              "      --disabled-bg-color: #3B4455;\n",
              "      --disabled-fill-color: #666;\n",
              "  }\n",
              "\n",
              "  .colab-df-quickchart {\n",
              "    background-color: var(--bg-color);\n",
              "    border: none;\n",
              "    border-radius: 50%;\n",
              "    cursor: pointer;\n",
              "    display: none;\n",
              "    fill: var(--fill-color);\n",
              "    height: 32px;\n",
              "    padding: 0;\n",
              "    width: 32px;\n",
              "  }\n",
              "\n",
              "  .colab-df-quickchart:hover {\n",
              "    background-color: var(--hover-bg-color);\n",
              "    box-shadow: 0 1px 2px rgba(60, 64, 67, 0.3), 0 1px 3px 1px rgba(60, 64, 67, 0.15);\n",
              "    fill: var(--button-hover-fill-color);\n",
              "  }\n",
              "\n",
              "  .colab-df-quickchart-complete:disabled,\n",
              "  .colab-df-quickchart-complete:disabled:hover {\n",
              "    background-color: var(--disabled-bg-color);\n",
              "    fill: var(--disabled-fill-color);\n",
              "    box-shadow: none;\n",
              "  }\n",
              "\n",
              "  .colab-df-spinner {\n",
              "    border: 2px solid var(--fill-color);\n",
              "    border-color: transparent;\n",
              "    border-bottom-color: var(--fill-color);\n",
              "    animation:\n",
              "      spin 1s steps(1) infinite;\n",
              "  }\n",
              "\n",
              "  @keyframes spin {\n",
              "    0% {\n",
              "      border-color: transparent;\n",
              "      border-bottom-color: var(--fill-color);\n",
              "      border-left-color: var(--fill-color);\n",
              "    }\n",
              "    20% {\n",
              "      border-color: transparent;\n",
              "      border-left-color: var(--fill-color);\n",
              "      border-top-color: var(--fill-color);\n",
              "    }\n",
              "    30% {\n",
              "      border-color: transparent;\n",
              "      border-left-color: var(--fill-color);\n",
              "      border-top-color: var(--fill-color);\n",
              "      border-right-color: var(--fill-color);\n",
              "    }\n",
              "    40% {\n",
              "      border-color: transparent;\n",
              "      border-right-color: var(--fill-color);\n",
              "      border-top-color: var(--fill-color);\n",
              "    }\n",
              "    60% {\n",
              "      border-color: transparent;\n",
              "      border-right-color: var(--fill-color);\n",
              "    }\n",
              "    80% {\n",
              "      border-color: transparent;\n",
              "      border-right-color: var(--fill-color);\n",
              "      border-bottom-color: var(--fill-color);\n",
              "    }\n",
              "    90% {\n",
              "      border-color: transparent;\n",
              "      border-bottom-color: var(--fill-color);\n",
              "    }\n",
              "  }\n",
              "</style>\n",
              "\n",
              "      <script>\n",
              "        async function quickchart(key) {\n",
              "          const quickchartButtonEl =\n",
              "            document.querySelector('#' + key + ' button');\n",
              "          quickchartButtonEl.disabled = true;  // To prevent multiple clicks.\n",
              "          quickchartButtonEl.classList.add('colab-df-spinner');\n",
              "          try {\n",
              "            const charts = await google.colab.kernel.invokeFunction(\n",
              "                'suggestCharts', [key], {});\n",
              "          } catch (error) {\n",
              "            console.error('Error during call to suggestCharts:', error);\n",
              "          }\n",
              "          quickchartButtonEl.classList.remove('colab-df-spinner');\n",
              "          quickchartButtonEl.classList.add('colab-df-quickchart-complete');\n",
              "        }\n",
              "        (() => {\n",
              "          let quickchartButtonEl =\n",
              "            document.querySelector('#df-abe2308f-951b-4f0e-9490-06fd2a9e0366 button');\n",
              "          quickchartButtonEl.style.display =\n",
              "            google.colab.kernel.accessAllowed ? 'block' : 'none';\n",
              "        })();\n",
              "      </script>\n",
              "    </div>\n",
              "\n",
              "    </div>\n",
              "  </div>\n"
            ],
            "application/vnd.google.colaboratory.intrinsic+json": {
              "type": "dataframe",
              "summary": "{\n  \"name\": \"display(dataset\",\n  \"rows\": 5,\n  \"fields\": [\n    {\n      \"column\": \"title\",\n      \"properties\": {\n        \"dtype\": \"string\",\n        \"num_unique_values\": 5,\n        \"samples\": [\n          \" Drunk Bragging Trump Staffer Started Russian Collusion Investigation\",\n          \" Pope Francis Just Called Out Donald Trump During His Christmas Speech\",\n          \" Sheriff David Clarke Becomes An Internet Joke For Threatening To Poke People \\u2018In The Eye\\u2019\"\n        ],\n        \"semantic_type\": \"\",\n        \"description\": \"\"\n      }\n    },\n    {\n      \"column\": \"text\",\n      \"properties\": {\n        \"dtype\": \"string\",\n        \"num_unique_values\": 5,\n        \"samples\": [\n          \"House Intelligence Committee Chairman Devin Nunes is going to have a bad day. He s been under the assumption, like many of us, that the Christopher Steele-dossier was what prompted the Russia investigation so he s been lashing out at the Department of Justice and the FBI in order to protect Trump. As it happens, the dossier is not what started the investigation, according to documents obtained by the New York Times.Former Trump campaign adviser George Papadopoulos was drunk in a wine bar when he revealed knowledge of Russian opposition research on Hillary Clinton.On top of that, Papadopoulos wasn t just a covfefe boy for Trump, as his administration has alleged. He had a much larger role, but none so damning as being a drunken fool in a wine bar. Coffee boys  don t help to arrange a New York meeting between Trump and President Abdel Fattah el-Sisi of Egypt two months before the election. It was known before that the former aide set up meetings with world leaders for Trump, but team Trump ran with him being merely a coffee boy.In May 2016, Papadopoulos revealed to Australian diplomat Alexander Downer that Russian officials were shopping around possible dirt on then-Democratic presidential nominee Hillary Clinton. Exactly how much Mr. Papadopoulos said that night at the Kensington Wine Rooms with the Australian, Alexander Downer, is unclear,  the report states.  But two months later, when leaked Democratic emails began appearing online, Australian officials passed the information about Mr. Papadopoulos to their American counterparts, according to four current and former American and foreign officials with direct knowledge of the Australians  role. Papadopoulos pleaded guilty to lying to the F.B.I. and is now a cooperating witness with Special Counsel Robert Mueller s team.This isn t a presidency. It s a badly scripted reality TV show.Photo by Win McNamee/Getty Images.\",\n          \"Pope Francis used his annual Christmas Day message to rebuke Donald Trump without even mentioning his name. The Pope delivered his message just days after members of the United Nations condemned Trump s move to recognize Jerusalem as the capital of Israel. The Pontiff prayed on Monday for the  peaceful coexistence of two states within mutually agreed and internationally recognized borders. We see Jesus in the children of the Middle East who continue to suffer because of growing tensions between Israelis and Palestinians,  Francis said.  On this festive day, let us ask the Lord for peace for Jerusalem and for all the Holy Land. Let us pray that the will to resume dialogue may prevail between the parties and that a negotiated solution can finally be reached. The Pope went on to plead for acceptance of refugees who have been forced from their homes, and that is an issue Trump continues to fight against. Francis used Jesus for which there was  no place in the inn  as an analogy. Today, as the winds of war are blowing in our world and an outdated model of development continues to produce human, societal and environmental decline, Christmas invites us to focus on the sign of the Child and to recognize him in the faces of little children, especially those for whom, like Jesus,  there is no place in the inn,  he said. Jesus knows well the pain of not being welcomed and how hard it is not to have a place to lay one s head,  he added.  May our hearts not be closed as they were in the homes of Bethlehem. The Pope said that Mary and Joseph were immigrants who struggled to find a safe place to stay in Bethlehem. They had to leave their people, their home, and their land,  Francis said.  This was no comfortable or easy journey for a young couple about to have a child.   At heart, they were full of hope and expectation because of the child about to be born; yet their steps were weighed down by the uncertainties and dangers that attend those who have to leave their home behind. So many other footsteps are hidden in the footsteps of Joseph and Mary,  Francis said Sunday. We see the tracks of entire families forced to set out in our own day. We see the tracks of millions of persons who do not choose to go away, but driven from their land, leave behind their dear ones. Amen to that.Photo by Christopher Furlong/Getty Images.\",\n          \"On Friday, it was revealed that former Milwaukee Sheriff David Clarke, who was being considered for Homeland Security Secretary in Donald Trump s administration, has an email scandal of his own.In January, there was a brief run-in on a plane between Clarke and fellow passenger Dan Black, who he later had detained by the police for no reason whatsoever, except that maybe his feelings were hurt. Clarke messaged the police to stop Black after he deplaned, and now, a search warrant has been executed by the FBI to see the exchanges.Clarke is calling it fake news even though copies of the search warrant are on the Internet. I am UNINTIMIDATED by lib media attempts to smear and discredit me with their FAKE NEWS reports designed to silence me,  the former sheriff tweeted.  I will continue to poke them in the eye with a sharp stick and bitch slap these scum bags til they get it. I have been attacked by better people than them #MAGA I am UNINTIMIDATED by lib media attempts to smear and discredit me with their FAKE NEWS reports designed to silence me. I will continue to poke them in the eye with a sharp stick and bitch slap these scum bags til they get it. I have been attacked by better people than them #MAGA pic.twitter.com/XtZW5PdU2b  David A. Clarke, Jr. (@SheriffClarke) December 30, 2017He didn t stop there.BREAKING NEWS! When LYING LIB MEDIA makes up FAKE NEWS to smear me, the ANTIDOTE is go right at them. Punch them in the nose & MAKE THEM TASTE THEIR OWN BLOOD. Nothing gets a bully like LYING LIB MEDIA S attention better than to give them a taste of their own blood #neverbackdown pic.twitter.com/T2NY2psHCR  David A. Clarke, Jr. (@SheriffClarke) December 30, 2017The internet called him out.This is your local newspaper and that search warrant isn t fake, and just because the chose not to file charges at the time doesn t mean they won t! Especially if you continue to lie. Months after decision not to charge Clarke, email search warrant filed https://t.co/zcbyc4Wp5b  KeithLeBlanc (@KeithLeBlanc63) December 30, 2017I just hope the rest of the Village People aren t implicated.  Kirk Ketchum (@kirkketchum) December 30, 2017Slaw, baked potatoes, or French fries? pic.twitter.com/fWfXsZupxy  ALT- Immigration   (@ALT_uscis) December 30, 2017pic.twitter.com/ymsOBLjfxU  Pendulum Swinger (@PendulumSwngr) December 30, 2017you called your police friends to stand up for you when someone made fun of your hat  Chris Jackson (@ChrisCJackson) December 30, 2017Is it me, with this masterful pshop of your hat, which I seem to never tire of. I think it s the steely resolve in your one visible eye pic.twitter.com/dWr5k8ZEZV  Chris Mohney (@chrismohney) December 30, 2017Are you indicating with your fingers how many people died in your jail? I think you re a few fingers short, dipshit  Ike Barinholtz (@ikebarinholtz) December 30, 2017ROFL. Internet tough guy with fake flair. pic.twitter.com/ulCFddhkdy  KellMeCrazy (@Kel_MoonFace) December 30, 2017You re so edgy, buddy.  Mrs. SMH (@MRSSMH2) December 30, 2017Is his break over at Applebees?  Aaron (@feltrrr2) December 30, 2017Are you trying to earn your  still relevant  badge?  CircusRebel (@CircusDrew) December 30, 2017make sure to hydrate, drink lots of water. It s rumored that prisoners can be denied water by prison officials.  Robert Klinc (@RobertKlinc1) December 30, 2017Terrill Thomas, the 38-year-old black man who died of thirst in Clarke s Milwaukee County Jail cell this April, was a victim of homicide. We just thought we should point that out. It can t be repeated enough.Photo by Spencer Platt/Getty Images.\"\n        ],\n        \"semantic_type\": \"\",\n        \"description\": \"\"\n      }\n    },\n    {\n      \"column\": \"subject\",\n      \"properties\": {\n        \"dtype\": \"category\",\n        \"num_unique_values\": 1,\n        \"samples\": [\n          \"News\"\n        ],\n        \"semantic_type\": \"\",\n        \"description\": \"\"\n      }\n    },\n    {\n      \"column\": \"date\",\n      \"properties\": {\n        \"dtype\": \"object\",\n        \"num_unique_values\": 4,\n        \"samples\": [\n          \"December 30, 2017\"\n        ],\n        \"semantic_type\": \"\",\n        \"description\": \"\"\n      }\n    },\n    {\n      \"column\": \"label\",\n      \"properties\": {\n        \"dtype\": \"category\",\n        \"num_unique_values\": 1,\n        \"samples\": [\n          \"FAKE\"\n        ],\n        \"semantic_type\": \"\",\n        \"description\": \"\"\n      }\n    }\n  ]\n}"
            }
          },
          "metadata": {}
        }
      ]
    },
    {
      "cell_type": "code",
      "source": [
        "#Data Types and nulls\n",
        "print(dataset.info())\n",
        "print(dataset.isnull().sum())"
      ],
      "metadata": {
        "colab": {
          "base_uri": "https://localhost:8080/"
        },
        "id": "LPswbHKlhimc",
        "outputId": "d7a80ded-661d-4e41-f3de-34fa8ccedc41"
      },
      "execution_count": 10,
      "outputs": [
        {
          "output_type": "stream",
          "name": "stdout",
          "text": [
            "<class 'pandas.core.frame.DataFrame'>\n",
            "RangeIndex: 4866 entries, 0 to 4865\n",
            "Data columns (total 5 columns):\n",
            " #   Column   Non-Null Count  Dtype \n",
            "---  ------   --------------  ----- \n",
            " 0   title    4866 non-null   object\n",
            " 1   text     4866 non-null   object\n",
            " 2   subject  4866 non-null   object\n",
            " 3   date     4866 non-null   object\n",
            " 4   label    4866 non-null   object\n",
            "dtypes: object(5)\n",
            "memory usage: 190.2+ KB\n",
            "None\n",
            "title      0\n",
            "text       0\n",
            "subject    0\n",
            "date       0\n",
            "label      0\n",
            "dtype: int64\n"
          ]
        }
      ]
    },
    {
      "cell_type": "markdown",
      "source": [
        "**2.3 Summary Statistics**"
      ],
      "metadata": {
        "id": "Mw_YHR3DiY2U"
      }
    },
    {
      "cell_type": "code",
      "source": [
        "# For numeric columns (we'll add a few numeric features later)\n",
        "print(dataset.describe(include='all'))"
      ],
      "metadata": {
        "colab": {
          "base_uri": "https://localhost:8080/"
        },
        "id": "mdRbtjvbins8",
        "outputId": "4ef22eb9-f1bb-4165-da75-3ab96440d7a3"
      },
      "execution_count": 11,
      "outputs": [
        {
          "output_type": "stream",
          "name": "stdout",
          "text": [
            "                                                    title  \\\n",
            "count                                                4866   \n",
            "unique                                               4851   \n",
            "top     Trump warns 'rogue regime' North Korea of grav...   \n",
            "freq                                                    2   \n",
            "\n",
            "                                                     text       subject  \\\n",
            "count                                                4866          4866   \n",
            "unique                                               4853             2   \n",
            "top     WASHINGTON (Reuters) - President Donald Trump ...  politicsNews   \n",
            "freq                                                    2          2479   \n",
            "\n",
            "                      date label  \n",
            "count                 4866  4866  \n",
            "unique                 461     2  \n",
            "top     November 30, 2017   REAL  \n",
            "freq                    45  2479  \n"
          ]
        }
      ]
    },
    {
      "cell_type": "code",
      "source": [
        "# Class distribution\n",
        "print(dataset['label'].value_counts())"
      ],
      "metadata": {
        "colab": {
          "base_uri": "https://localhost:8080/"
        },
        "id": "zVR00fSti2s_",
        "outputId": "a6d41d04-3a04-446e-d3a6-8eaa75867546"
      },
      "execution_count": 12,
      "outputs": [
        {
          "output_type": "stream",
          "name": "stdout",
          "text": [
            "label\n",
            "REAL    2479\n",
            "FAKE    2387\n",
            "Name: count, dtype: int64\n"
          ]
        }
      ]
    },
    {
      "cell_type": "markdown",
      "source": [
        "**2.4 Visualize the Key aspects**"
      ],
      "metadata": {
        "id": "FgPbPHFXmPig"
      }
    },
    {
      "cell_type": "code",
      "source": [
        "# Compute combined text and text length first\n",
        "dataset['content'] = dataset['title'].fillna('') + \" \" + dataset['text'].fillna('')\n",
        "dataset['textLength'] = dataset['content'].apply(lambda x: len(str(x)))\n"
      ],
      "metadata": {
        "id": "DpPRGtIVmauZ"
      },
      "execution_count": 13,
      "outputs": []
    },
    {
      "cell_type": "code",
      "source": [
        "# Plot class distribution\n",
        "plt.figure(figsize=(6,4))\n",
        "sns.countplot(data=dataset, x='label')\n",
        "plt.title('Class distribution')\n",
        "plt.show()"
      ],
      "metadata": {
        "colab": {
          "base_uri": "https://localhost:8080/",
          "height": 410
        },
        "id": "m8WxVQbZmv27",
        "outputId": "c871f18c-1396-48b4-c771-37f18e804a84"
      },
      "execution_count": 14,
      "outputs": [
        {
          "output_type": "display_data",
          "data": {
            "text/plain": [
              "<Figure size 600x400 with 1 Axes>"
            ],
            "image/png": "[encoded data removed]"
          },
          "metadata": {}
        }
      ]
    },
    {
      "cell_type": "code",
      "source": [
        "# text length histogram\n",
        "plt.figure(figsize=(8,4))\n",
        "sns.histplot(dataset['textLength'], bins=80)\n",
        "plt.title('Distribution of text length')\n",
        "plt.show()"
      ],
      "metadata": {
        "colab": {
          "base_uri": "https://localhost:8080/",
          "height": 410
        },
        "id": "ZjXg2RUZnjVy",
        "outputId": "e856ab0e-5659-4753-c024-31253f3e9bbe"
      },
      "execution_count": 15,
      "outputs": [
        {
          "output_type": "display_data",
          "data": {
            "text/plain": [
              "<Figure size 800x400 with 1 Axes>"
            ],
            "image/png": "[encoded data removed]"
          },
          "metadata": {}
        }
      ]
    },
    {
      "cell_type": "markdown",
      "source": [
        "**2.5 Identify issues**"
      ],
      "metadata": {
        "id": "5HTaYHxOnsUj"
      }
    },
    {
      "cell_type": "code",
      "source": [
        "# missing values per column\n",
        "print(dataset.isnull().sum())"
      ],
      "metadata": {
        "colab": {
          "base_uri": "https://localhost:8080/"
        },
        "id": "7JVbB2UHnxnj",
        "outputId": "629bf52b-a272-479a-b5bd-6be235b97756"
      },
      "execution_count": 16,
      "outputs": [
        {
          "output_type": "stream",
          "name": "stdout",
          "text": [
            "title         0\n",
            "text          0\n",
            "subject       0\n",
            "date          0\n",
            "label         0\n",
            "content       0\n",
            "textLength    0\n",
            "dtype: int64\n"
          ]
        }
      ]
    },
    {
      "cell_type": "code",
      "source": [
        "# duplicates (on content)\n",
        "print(\"Duplicates:\", dataset['content'].duplicated().sum())"
      ],
      "metadata": {
        "colab": {
          "base_uri": "https://localhost:8080/"
        },
        "id": "6oBeafVQoHl_",
        "outputId": "9a0d9d50-bcc1-489c-9b74-e6accc3ee998"
      },
      "execution_count": 17,
      "outputs": [
        {
          "output_type": "stream",
          "name": "stdout",
          "text": [
            "Duplicates: 11\n"
          ]
        }
      ]
    },
    {
      "cell_type": "code",
      "source": [
        "# extreme text length outliers\n",
        "q1 = dataset['textLength'].quantile(0.01)\n",
        "q99 = dataset['textLength'].quantile(0.99)\n",
        "print(\"1% of length:\", q1 )\n",
        "print(\"99% of length:\", q99)"
      ],
      "metadata": {
        "colab": {
          "base_uri": "https://localhost:8080/"
        },
        "id": "po25GzsDoP8g",
        "outputId": "d9ea60d0-5100-4154-ff0e-9d007d535f70"
      },
      "execution_count": 18,
      "outputs": [
        {
          "output_type": "stream",
          "name": "stdout",
          "text": [
            "1% of length: 415.6\n",
            "99% of length: 6450.850000000004\n"
          ]
        }
      ]
    },
    {
      "cell_type": "code",
      "source": [
        "# show a few very long entries\n",
        "display(dataset[dataset['textLength'] > q99].head())"
      ],
      "metadata": {
        "colab": {
          "base_uri": "https://localhost:8080/",
          "height": 293
        },
        "id": "3q73AsVro-K9",
        "outputId": "b8854a47-0234-443c-86e9-4026695c2f4d"
      },
      "execution_count": 19,
      "outputs": [
        {
          "output_type": "display_data",
          "data": {
            "text/plain": [
              "                                                  title  \\\n",
              "65     Principles Over Power: Why Republicans Need T...   \n",
              "1162   How The GOP Became The Party Of White Suprema...   \n",
              "1350   Dear President Moron: Since You Don’t Seem To...   \n",
              "2421  As Republicans aim to ride economy to election...   \n",
              "2453  In Georgia, battle of the 'Staceys' tests Demo...   \n",
              "\n",
              "                                                   text       subject  \\\n",
              "65    Over the last few weeks, I ve watched as the l...          News   \n",
              "1162  The Republican Party has always had a problem ...          News   \n",
              "1350  Donald Trump doesn t like NATO. Much like the ...          News   \n",
              "2421   KING OF PRUSSIA, Pennsylvania/WASHINGTON (Reu...  politicsNews   \n",
              "2453  ATLANTA (Reuters) - The two Democratic candida...  politicsNews   \n",
              "\n",
              "                    date label  \\\n",
              "65     November 25, 2017  FAKE   \n",
              "1162       June 13, 2017  FAKE   \n",
              "1350        May 26, 2017  FAKE   \n",
              "2421  December 22, 2017   REAL   \n",
              "2453  December 20, 2017   REAL   \n",
              "\n",
              "                                                content  textLength  \n",
              "65     Principles Over Power: Why Republicans Need T...        7025  \n",
              "1162   How The GOP Became The Party Of White Suprema...        7624  \n",
              "1350   Dear President Moron: Since You Don’t Seem To...        8367  \n",
              "2421  As Republicans aim to ride economy to election...        6848  \n",
              "2453  In Georgia, battle of the 'Staceys' tests Demo...        8241  "
            ],
            "text/html": [
              "\n",
              "  <div id=\"df-52d01608-186a-4d63-8130-ff5f265ed7cc\" class=\"colab-df-container\">\n",
              "    <div>\n",
              "<style scoped>\n",
              "    .dataframe tbody tr th:only-of-type {\n",
              "        vertical-align: middle;\n",
              "    }\n",
              "\n",
              "    .dataframe tbody tr th {\n",
              "        vertical-align: top;\n",
              "    }\n",
              "\n",
              "    .dataframe thead th {\n",
              "        text-align: right;\n",
              "    }\n",
              "</style>\n",
              "<table border=\"1\" class=\"dataframe\">\n",
              "  <thead>\n",
              "    <tr style=\"text-align: right;\">\n",
              "      <th></th>\n",
              "      <th>title</th>\n",
              "      <th>text</th>\n",
              "      <th>subject</th>\n",
              "      <th>date</th>\n",
              "      <th>label</th>\n",
              "      <th>content</th>\n",
              "      <th>textLength</th>\n",
              "    </tr>\n",
              "  </thead>\n",
              "  <tbody>\n",
              "    <tr>\n",
              "      <th>65</th>\n",
              "      <td>Principles Over Power: Why Republicans Need T...</td>\n",
              "      <td>Over the last few weeks, I ve watched as the l...</td>\n",
              "      <td>News</td>\n",
              "      <td>November 25, 2017</td>\n",
              "      <td>FAKE</td>\n",
              "      <td>Principles Over Power: Why Republicans Need T...</td>\n",
              "      <td>7025</td>\n",
              "    </tr>\n",
              "    <tr>\n",
              "      <th>1162</th>\n",
              "      <td>How The GOP Became The Party Of White Suprema...</td>\n",
              "      <td>The Republican Party has always had a problem ...</td>\n",
              "      <td>News</td>\n",
              "      <td>June 13, 2017</td>\n",
              "      <td>FAKE</td>\n",
              "      <td>How The GOP Became The Party Of White Suprema...</td>\n",
              "      <td>7624</td>\n",
              "    </tr>\n",
              "    <tr>\n",
              "      <th>1350</th>\n",
              "      <td>Dear President Moron: Since You Don’t Seem To...</td>\n",
              "      <td>Donald Trump doesn t like NATO. Much like the ...</td>\n",
              "      <td>News</td>\n",
              "      <td>May 26, 2017</td>\n",
              "      <td>FAKE</td>\n",
              "      <td>Dear President Moron: Since You Don’t Seem To...</td>\n",
              "      <td>8367</td>\n",
              "    </tr>\n",
              "    <tr>\n",
              "      <th>2421</th>\n",
              "      <td>As Republicans aim to ride economy to election...</td>\n",
              "      <td>KING OF PRUSSIA, Pennsylvania/WASHINGTON (Reu...</td>\n",
              "      <td>politicsNews</td>\n",
              "      <td>December 22, 2017</td>\n",
              "      <td>REAL</td>\n",
              "      <td>As Republicans aim to ride economy to election...</td>\n",
              "      <td>6848</td>\n",
              "    </tr>\n",
              "    <tr>\n",
              "      <th>2453</th>\n",
              "      <td>In Georgia, battle of the 'Staceys' tests Demo...</td>\n",
              "      <td>ATLANTA (Reuters) - The two Democratic candida...</td>\n",
              "      <td>politicsNews</td>\n",
              "      <td>December 20, 2017</td>\n",
              "      <td>REAL</td>\n",
              "      <td>In Georgia, battle of the 'Staceys' tests Demo...</td>\n",
              "      <td>8241</td>\n",
              "    </tr>\n",
              "  </tbody>\n",
              "</table>\n",
              "</div>\n",
              "    <div class=\"colab-df-buttons\">\n",
              "\n",
              "  <div class=\"colab-df-container\">\n",
              "    <button class=\"colab-df-convert\" onclick=\"convertToInteractive('df-52d01608-186a-4d63-8130-ff5f265ed7cc')\"\n",
              "            title=\"Convert this dataframe to an interactive table.\"\n",
              "            style=\"display:none;\">\n",
              "\n",
              "  <svg xmlns=\"http://www.w3.org/2000/svg\" height=\"24px\" viewBox=\"0 -960 960 960\">\n",
              "    <path d=\"M120-120v-720h720v720H120Zm60-500h600v-160H180v160Zm220 220h160v-160H400v160Zm0 220h160v-160H400v160ZM180-400h160v-160H180v160Zm440 0h160v-160H620v160ZM180-180h160v-160H180v160Zm440 0h160v-160H620v160Z\"/>\n",
              "  </svg>\n",
              "    </button>\n",
              "\n",
              "  <style>\n",
              "    .colab-df-container {\n",
              "      display:flex;\n",
              "      gap: 12px;\n",
              "    }\n",
              "\n",
              "    .colab-df-convert {\n",
              "      background-color: #E8F0FE;\n",
              "      border: none;\n",
              "      border-radius: 50%;\n",
              "      cursor: pointer;\n",
              "      display: none;\n",
              "      fill: #1967D2;\n",
              "      height: 32px;\n",
              "      padding: 0 0 0 0;\n",
              "      width: 32px;\n",
              "    }\n",
              "\n",
              "    .colab-df-convert:hover {\n",
              "      background-color: #E2EBFA;\n",
              "      box-shadow: 0px 1px 2px rgba(60, 64, 67, 0.3), 0px 1px 3px 1px rgba(60, 64, 67, 0.15);\n",
              "      fill: #174EA6;\n",
              "    }\n",
              "\n",
              "    .colab-df-buttons div {\n",
              "      margin-bottom: 4px;\n",
              "    }\n",
              "\n",
              "    [theme=dark] .colab-df-convert {\n",
              "      background-color: #3B4455;\n",
              "      fill: #D2E3FC;\n",
              "    }\n",
              "\n",
              "    [theme=dark] .colab-df-convert:hover {\n",
              "      background-color: #434B5C;\n",
              "      box-shadow: 0px 1px 3px 1px rgba(0, 0, 0, 0.15);\n",
              "      filter: drop-shadow(0px 1px 2px rgba(0, 0, 0, 0.3));\n",
              "      fill: #FFFFFF;\n",
              "    }\n",
              "  </style>\n",
              "\n",
              "    <script>\n",
              "      const buttonEl =\n",
              "        document.querySelector('#df-52d01608-186a-4d63-8130-ff5f265ed7cc button.colab-df-convert');\n",
              "      buttonEl.style.display =\n",
              "        google.colab.kernel.accessAllowed ? 'block' : 'none';\n",
              "\n",
              "      async function convertToInteractive(key) {\n",
              "        const element = document.querySelector('#df-52d01608-186a-4d63-8130-ff5f265ed7cc');\n",
              "        const dataTable =\n",
              "          await google.colab.kernel.invokeFunction('convertToInteractive',\n",
              "                                                    [key], {});\n",
              "        if (!dataTable) return;\n",
              "\n",
              "        const docLinkHtml = 'Like what you see? Visit the ' +\n",
              "          '<a target=\"_blank\" href=https://colab.research.google.com/notebooks/data_table.ipynb>data table notebook</a>'\n",
              "          + ' to learn more about interactive tables.';\n",
              "        element.innerHTML = '';\n",
              "        dataTable['output_type'] = 'display_data';\n",
              "        await google.colab.output.renderOutput(dataTable, element);\n",
              "        const docLink = document.createElement('div');\n",
              "        docLink.innerHTML = docLinkHtml;\n",
              "        element.appendChild(docLink);\n",
              "      }\n",
              "    </script>\n",
              "  </div>\n",
              "\n",
              "\n",
              "    <div id=\"df-b8d8ef88-149f-4df9-a82c-92e1e727d549\">\n",
              "      <button class=\"colab-df-quickchart\" onclick=\"quickchart('df-b8d8ef88-149f-4df9-a82c-92e1e727d549')\"\n",
              "                title=\"Suggest charts\"\n",
              "                style=\"display:none;\">\n",
              "\n",
              "<svg xmlns=\"http://www.w3.org/2000/svg\" height=\"24px\"viewBox=\"0 0 24 24\"\n",
              "     width=\"24px\">\n",
              "    <g>\n",
              "        <path d=\"M19 3H5c-1.1 0-2 .9-2 2v14c0 1.1.9 2 2 2h14c1.1 0 2-.9 2-2V5c0-1.1-.9-2-2-2zM9 17H7v-7h2v7zm4 0h-2V7h2v10zm4 0h-2v-4h2v4z\"/>\n",
              "    </g>\n",
              "</svg>\n",
              "      </button>\n",
              "\n",
              "<style>\n",
              "  .colab-df-quickchart {\n",
              "      --bg-color: #E8F0FE;\n",
              "      --fill-color: #1967D2;\n",
              "      --hover-bg-color: #E2EBFA;\n",
              "      --hover-fill-color: #174EA6;\n",
              "      --disabled-fill-color: #AAA;\n",
              "      --disabled-bg-color: #DDD;\n",
              "  }\n",
              "\n",
              "  [theme=dark] .colab-df-quickchart {\n",
              "      --bg-color: #3B4455;\n",
              "      --fill-color: #D2E3FC;\n",
              "      --hover-bg-color: #434B5C;\n",
              "      --hover-fill-color: #FFFFFF;\n",
              "      --disabled-bg-color: #3B4455;\n",
              "      --disabled-fill-color: #666;\n",
              "  }\n",
              "\n",
              "  .colab-df-quickchart {\n",
              "    background-color: var(--bg-color);\n",
              "    border: none;\n",
              "    border-radius: 50%;\n",
              "    cursor: pointer;\n",
              "    display: none;\n",
              "    fill: var(--fill-color);\n",
              "    height: 32px;\n",
              "    padding: 0;\n",
              "    width: 32px;\n",
              "  }\n",
              "\n",
              "  .colab-df-quickchart:hover {\n",
              "    background-color: var(--hover-bg-color);\n",
              "    box-shadow: 0 1px 2px rgba(60, 64, 67, 0.3), 0 1px 3px 1px rgba(60, 64, 67, 0.15);\n",
              "    fill: var(--button-hover-fill-color);\n",
              "  }\n",
              "\n",
              "  .colab-df-quickchart-complete:disabled,\n",
              "  .colab-df-quickchart-complete:disabled:hover {\n",
              "    background-color: var(--disabled-bg-color);\n",
              "    fill: var(--disabled-fill-color);\n",
              "    box-shadow: none;\n",
              "  }\n",
              "\n",
              "  .colab-df-spinner {\n",
              "    border: 2px solid var(--fill-color);\n",
              "    border-color: transparent;\n",
              "    border-bottom-color: var(--fill-color);\n",
              "    animation:\n",
              "      spin 1s steps(1) infinite;\n",
              "  }\n",
              "\n",
              "  @keyframes spin {\n",
              "    0% {\n",
              "      border-color: transparent;\n",
              "      border-bottom-color: var(--fill-color);\n",
              "      border-left-color: var(--fill-color);\n",
              "    }\n",
              "    20% {\n",
              "      border-color: transparent;\n",
              "      border-left-color: var(--fill-color);\n",
              "      border-top-color: var(--fill-color);\n",
              "    }\n",
              "    30% {\n",
              "      border-color: transparent;\n",
              "      border-left-color: var(--fill-color);\n",
              "      border-top-color: var(--fill-color);\n",
              "      border-right-color: var(--fill-color);\n",
              "    }\n",
              "    40% {\n",
              "      border-color: transparent;\n",
              "      border-right-color: var(--fill-color);\n",
              "      border-top-color: var(--fill-color);\n",
              "    }\n",
              "    60% {\n",
              "      border-color: transparent;\n",
              "      border-right-color: var(--fill-color);\n",
              "    }\n",
              "    80% {\n",
              "      border-color: transparent;\n",
              "      border-right-color: var(--fill-color);\n",
              "      border-bottom-color: var(--fill-color);\n",
              "    }\n",
              "    90% {\n",
              "      border-color: transparent;\n",
              "      border-bottom-color: var(--fill-color);\n",
              "    }\n",
              "  }\n",
              "</style>\n",
              "\n",
              "      <script>\n",
              "        async function quickchart(key) {\n",
              "          const quickchartButtonEl =\n",
              "            document.querySelector('#' + key + ' button');\n",
              "          quickchartButtonEl.disabled = true;  // To prevent multiple clicks.\n",
              "          quickchartButtonEl.classList.add('colab-df-spinner');\n",
              "          try {\n",
              "            const charts = await google.colab.kernel.invokeFunction(\n",
              "                'suggestCharts', [key], {});\n",
              "          } catch (error) {\n",
              "            console.error('Error during call to suggestCharts:', error);\n",
              "          }\n",
              "          quickchartButtonEl.classList.remove('colab-df-spinner');\n",
              "          quickchartButtonEl.classList.add('colab-df-quickchart-complete');\n",
              "        }\n",
              "        (() => {\n",
              "          let quickchartButtonEl =\n",
              "            document.querySelector('#df-b8d8ef88-149f-4df9-a82c-92e1e727d549 button');\n",
              "          quickchartButtonEl.style.display =\n",
              "            google.colab.kernel.accessAllowed ? 'block' : 'none';\n",
              "        })();\n",
              "      </script>\n",
              "    </div>\n",
              "\n",
              "    </div>\n",
              "  </div>\n"
            ],
            "application/vnd.google.colaboratory.intrinsic+json": {
              "type": "dataframe",
              "summary": "{\n  \"name\": \"display(dataset[dataset['textLength'] > q99]\",\n  \"rows\": 5,\n  \"fields\": [\n    {\n      \"column\": \"title\",\n      \"properties\": {\n        \"dtype\": \"string\",\n        \"num_unique_values\": 5,\n        \"samples\": [\n          \" How The GOP Became The Party Of White Supremacists Under Donald Trump\",\n          \"In Georgia, battle of the 'Staceys' tests Democrats' future\",\n          \" Dear President Moron: Since You Don\\u2019t Seem To Get How NATO Works, Please Allow Me To Educate You\"\n        ],\n        \"semantic_type\": \"\",\n        \"description\": \"\"\n      }\n    },\n    {\n      \"column\": \"text\",\n      \"properties\": {\n        \"dtype\": \"string\",\n        \"num_unique_values\": 5,\n        \"samples\": [\n          \"The Republican Party has always had a problem with racism. That s no accident; after all it was their racist  Southern Strategy  that got them the votes of racist white southerners once the Civil Rights Act was signed. Modern day Republicans like to point out that it was the Democrats who were the party of the Ku Klux Klan and other racists, but the parties switched sides once the Civil Rights Act was signed by President Lyndon B. Johnson, because Southern Democrats couldn t abide the idea of de-segregating the south and starting down the path of trying to kill racism as a matter of policy and practice as they knew it. That s how the racists wound up in the GOP, and the Democrats lost the South for a generation. It s also why, to this day, the GOP has such a hard time with minority voters. However, something amazing has happened to the Republican Party in this area with Donald Trump as its titular head. They have literally become the party of white supremacists   and they aren t even trying to hide it anymore.Just a few years ago, no one would have thought this possible   not even elected Republicans themselves. For instance, when notoriously racist Rep. Steve King ( R- Iowa) made his infamous comment about Mexican immigrants having  calves the size of cantaloupes because they re hauling 75 pounds of marijuana across the desert,  then- House Speaker John Boehner said, from a podium to the press that the comments were  hateful,  and  offensive.  There were also reports that Boehner said privately that King is an  asshole  for saying what he said.That was just three years ago in 2014. To compare, here in 2017, when King made a much worse remark   the infamous and openly white nationalist  we can t restore our civilization with somebody else s babies  tweet   current House Speaker Paul Ryan was tepid in his response, only saying that he is sure that Rep. King  misspoke. To top it all off, King tweeted that in support of far-right Dutch candidate for high office Geert Wilders, who literally wants to outlaw the religion of Islam. Something tells me that if given the chance, Steve King would outlaw Islam in America.Wilders understands that culture and demographics are our destiny. We can't restore our civilization with somebody else's babies. https://t.co/4nxLipafWO  Steve King (@SteveKingIA) March 12, 2017When King doubled down on the remarks, Speaker Ryan said nothing. Further, only a few GOP elected officials had the nerve to rebuke King   almost all of them minorities. This is because these people know who their base is, who Donald Trump s base is, and they know they need the racists and white supremacists that helped propel Trump to the White House to get reelected.This is all perfectly in line with Trump s infamous call to ban Muslims from entering the nation, and of course, there was former New York Mayor and close Trump confidante Rudy Giuliani s admission that Trump asked him to put together a way for him to ban Muslims that would pass Constitutional muster:Then, we get to the Donald Trump campaign itself. Let s not forget   Trump entered the political arena by trying to delegitimize the first Black president by spreading the racist lie that President Barack Obama was not born here, and forcing him to show his birth certificate in a  show me your papers, boy, type of way. Even when Trump let his birtherism go, he still lied and said Hillary Clinton started it.Also, we all remember how long it took Trump to disavow David Duke and the Ku Klux Klan when Jake Tapper asked him about it. Only then did House Speaker Paul Ryan and Senate Majority Leader Mitch McConnell rebuke him. However, that was before Trump had secured the nomination, too. There was radio silence from GOP leadership on the open racism and anti-Semitism and misogyny of the Trump campaign unless they were cornered, as when #NeverTrump conservative radio host Charlie Sykes forced House Speaker Paul Ryan to answer for Trump s repeated retweets of anti-Semitic images.As for the Trump Administration itself   there are no words for the level of bigotry allowed therein. First, we have Trump campaign CEO turned White House Chief Strategist Stephen K. Bannon, who ran the openly racist and anti-Semitic website Breitbart.com prior to joining Trump s campaign. Bannon is a literal white supremacist. He has said that one book that shapes his world view is a French novel called  Camp of Saints,  which fantasizes that immigrants   conveniently of the black and brown variety   are coming to destroy the white race. Every educated analysis of the novel reveals that it is virulently racist  (this is a book that also happens to be a favorite of Steve King). Then, we have head speechwriter and immigration policy maker Stephen Miller, who shares this ideology and has for a long time; after all, this is a guy who spent his high school years harassing Latino students. Then, there is adviser Sebastian Gorka, who wore a medal from a Hungarian Nazi group to Trump s inauguration. The group said they were proud to see Gorka wearing the medal.Through all of these clearly white supremacist appointments, prominent GOP leaders have been silent. Nothing from House Speaker Paul Ryan, Senate Majority Leader Mitch McConnell, or any of the others. In fact, when asked about Bannon, Speaker Ryan only said he hadn t met him. Well, I haven t met David Duke either, but I let his past work inform my opinion of him. When McConnell was asked about Bannon, he was silent, then told the reporters in his office,  It s great to be with you guys today.  Then, aides rushed the reporters out before anyone could press further.What did Senate Majority Leader Mitch McConnell have to say today about Steve Bannon s appointment? Not much. pic.twitter.com/bPZ2UtRkxW  The Last Word (@TheLastWord) November 16, 2016And let s not forget Attorney General Jeff Sessions, the guy who they all say isn t a racist but was deemed too racist to be confirmed to a federal judgeship by a GOP-controlled Senate in Ronald Reagan s administration in 1986. There s also White House Press Secretary Sean Spicer s saying that Nazi leader Adolf Hitler never used chemical weapons   all while referring to Nazi death camps as  Holocaust Centers.  And there is the White House s engaging in Holocaust denial by omitting any mention of Jewish people from their Holocaust Remembrance Day statement. It turns out that this was deliberate, which is definite Holocaust denial because while other minorities died in the Holocaust as well, Hitler s  Final Solution  was to eradicate the Jewish people from the planet. In short, the Holocaust was specifically about Jews, and the White House is deliberately denying this. Here is video of their statements regarding their omission of the original purpose of the Holocaust, and why they deliberately omitted the mention of Jews:I could go on, but you get the picture. The GOP, in the past, had no issue rebuking open white nationalism. They do now because that is literally who they are. There are white supremacists working in the White House, and all throughout Trump s government. And the mainstream leadership of the Republican Party has absolutely no problem with that at all   because the people with those same repugnant ideas are their base. This is who the GOP is.So, I implore you to look at all the evidence provided here and think   if you are a Republican, but you abhor racism, anti-Semitism, and white supremacy, why are you still a member of the GOP?Featured image via BRENDAN SMIALOWSKI/AFP/Getty Images\",\n          \"ATLANTA (Reuters) - The two Democratic candidates running for governor in Georgia are both lawyers and former state legislators. Both are women, and on many policy issues it\\u2019s hard to tell them apart. Both even share the same first name - Stacey. But they sharply disagree on the path to victory.\\u00a0\\u00a0  Stacey Abrams, 44, wants to become the first African American female governor in the United States by mobilizing solidly Democratic black voters, who vote sporadically in elections, to form a winning coalition with white liberals. Stacey Evans, 39, thinks the math does not add up without\\u00a0also appealing to white moderates, many of them outside urban areas, who voted for President Donald Trump last November. She is highlighting her crossover appeal as a white suburban mother with country roots. Their divergent strategies mirror a wider debate within the Democratic Party that has grown louder after strong turnout by minority voters helped to power recent Democratic victories in Alabama and Virginia. As the party prepares for the 2018 congressional elections, there is disagreement over which voters to spend more time and money on - minority voters who are a fast-growing share of the electorate but do not reliably cast ballots, or blue-collar and suburban whites who swing between parties. (Graphic: tmsnrt.rs/2yYkcHV) Reuters interviews with liberal activist groups, some donors and an examination of campaign finance records show that many on the left are betting on Abrams\\u2019 strategy as the best shot at turning a Republican state.  Underscoring the stakes in Georgia is the unusual attention from national groups seeking to push the party farther left. Their level of early support for Abrams is largely unparalleled among other 2018 gubernatorial and many congressional races. A dozen liberal groups have already thrown support behind Abrams, according to a Reuters tally, even though the Democratic primary, or nominating contest, is still months away. The breadth of that support has been little reported. Abrams, who rouses audiences to near religious fervor describing her struggles growing up poor and black in the South, argues that Democrats have wasted resources on swing voters.  \\u201cWe have left too many voters untouched,\\u201d she said in an interview, noting that she refuses to tone down her support for abortion, gay rights and labor unions to appeal to Republican-leaning voters.  Her opponent does not discount the importance of black voters and also embraces liberal views. But \\u201cyou are going to have to persuade some moderate Republicans to vote for you, if you are going to win in Georgia,\\u201d said Evans, who tears up before crowds when she recounts a childhood spent moving from one rural trailer home to another. After losing the White House last year, the Democratic Party found itself powerless in Washington. Some in the party faulted their presidential nominee, Hillary Clinton, for her lack of outreach to minority voters in key states. Others blamed her inability to connect with working class white voters who were once Democratic. Minorities supported the Democratic ticket by wide margins in 2016, but turnout was flat among Hispanics and sharply lower among African Americans, according to the Pew Research Center. Only half of Georgia\\u2019s black voters cast ballots in 2016, compared to more than two-thirds of whites, a Reuters review of state records showed. The Democratic National Committee said the recent wins in Alabama and Virginia \\u201cshow that Democrats are a force to be reckoned with when we invest early in the communities that represent who we are as a Party.\\u201d  Jennifer Duffy, a political analyst at the nonpartisan Cook Political Report, said boosting Democratic turnout could work as a strategy. But she urged caution - focusing too narrowly on specific demographic groups risks alienating moderate Democrats. And swing voters, especially in suburban areas, also played a role in the recent Democratic victories, she noted. University of Georgia political science professor Charles Bullock agreed the numbers are there if Democrats do not lose more white voters. \\u00a0\\u00a0\\u00a0 At the Abrams campaign headquarters, a poster titled \\u201cHow We Win\\u201d points out that Democrats in Georgia have lost recent elections by some 200,000 votes. More than 1 million black voters did not cast ballots during the last governor\\u2019s race in 2014, state data shows.  \\u00a0\\u00a0\\u00a0\\u00a0\\u201cThey don\\u2019t vote because we don\\u2019t ask, and this is a campaign that is going to keep asking,\\u201d Abrams said, speaking  on a recent evening to an audience of three dozen volunteers. \\u00a0\\u00a0\\u00a0 Abrams, a tax attorney and romance novelist who led Democrats in the state legislature, said her campaign has already reached out to more than 300,000 voters with door knocks, phone calls and text messages.  \\u00a0\\u00a0\\u00a0\\u00a0She hosted summer events with music and barbecue in a dozen smaller cities - places like Macon, a predominately African American community, and tiny Dalton in the rural northern state.  \\u00a0\\u00a0\\u00a0 National liberal activists are lining up endorsements, money and manpower behind Abrams, who is seen as starting with an advantage in a Democratic primary dominated by black voters. Democracy for America, MoveOn Political Action and the Working Families Party call her campaign a model of how to engage the nation\\u2019s increasingly diverse electorate.  \\u00a0\\u00a0\\u00a0\\u00a0\\u201cPolitics is changing in America, and Abrams\\u2019 path to victory reflects the changing demographics and enthusiasm,\\u201d said Dan Cantor, national chairman of the Working Families Party.  \\u00a0\\u00a0\\u00a0 MoveOn, whose recent endorsement of Abrams marked its first in a 2018 governor\\u2019s race, said it would mobilize its 125,000 Georgia members as volunteers for her campaign.  \\u00a0\\u00a0\\u00a0\\u00a0Democracy for America is similarly engaging nearly 35,000 members in the state. Officials said the group has already raised nearly $25,000 for Abrams, an unusually high sum for an election still a year away.  A group called PowerPac is organizing a $10 million get-out-the-vote effort with plans to hire people to contact minority voters and use targeted radio, phone and digital campaigns.  \\u00a0\\u00a0\\u00a0 Individual donors from outside Georgia have contributed more than half of the $470,000 in larger donations that Abrams has reported, according to a Reuters analysis of campaign finance records.\\u00a0Billionaire George Soros, one of the Democratic Party\\u2019s biggest financial backers, and two sons donated $21,000 each. \\u00a0\\u00a0\\u00a0 By contrast, Evans is not receiving many donations from outside of Georgia, nor national endorsements. Her campaign is focused on restoring cuts to a state college scholarship called HOPE. Most of her money has come from in-state donors, who have fueled almost all of her reported $390,000 in major donations. \\u00a0\\u00a0\\u00a0 She has support from Georgia\\u2019s last Democratic governor, as well as a big-name Democratic strategist, Paul Begala, who worked for the governor who created the scholarship.  \\u00a0\\u00a0\\u00a0\\u00a0The Georgia contest reflects divisions between those who want to broaden the Democratic electorate by bringing back voters who have shifted away, and those who want to drill deeper into the party\\u2019s base to increase turnout, said Begala, calling it \\u201can utterly false choice.\\u201d \\u201cIt is like a football team saying, \\u2018Do you play offense, or defense?\\u2019\\u201d Begala said. \\u201cYou have to do both.\\u201d  \\u00a0\\u00a0\\u00a0\\u00a0At a recent barbecue luncheon in Athens, Evans pointed out that she outperformed Clinton last year in her district by 12 percentage points, picking up moderate voters. \\u00a0\\u00a0\\u00a0 \\u201cYou can win in areas where you might not think you are going to have support, if you show up and talk to people,\\u201d she told lawyers lunching on pulled pork served on paper placemats. \\u00a0\\u00a0\\u00a0 Evans is not knocking on voters\\u2019 doors just yet. But she is traveling the state talking to local Democratic organizations and African-American churches.\\u00a0\\u00a0\\u00a0  \\u00a0\\u00a0\\u00a0\\u00a0Lukis Newborn, an undecided rural voter, recently heard Abrams speak in a suburban Atlanta sports bar. He found her exciting. But he also connects with Evans, having been raised in a household where dinner was rice and beans or peanut butter and jelly. \\u201cBoth are a part of me,\\u201d said Newborn, 26, from Paulding County. \\u201cIt\\u2019s an internal struggle of a Georgia Democrat like no other.\\u201d\\u00a0\\u00a0\\u00a0  \",\n          \"Donald Trump doesn t like NATO. Much like the fact he doesn t understand NATO, this is clear. On the campaign trail, his common statement was that the alliance was  obsolete.  He has dozens of quotes trashing the alliance. Now, he endlessly rails against our allies  not meeting financial obligations    which do not exist. We ll explore why those obligations do not exist in a moment, but for now, a simple metaphor to explain why nobody owes NATO or the United States a dime:Imagine you re in a homeowners association, which collects small fees to run a neighborhood watch, and also, one of the bylaws deals with appearances   a guideline states all members should spend two percent of household income on the yard, paint, etc. Imagine a neighbor fails to meet the two percent benchmark. Did they fulfill the guideline s obligation? No. Do they owe you, their neighbor, money? No, that s silly. You aren t paying for their yard, and the fees have already been collected for the  collective  spending on the neighborhood watch. You can be pissed their yard doesn t look as good as yours, but they re not costing you a dime, and they owe you nothing. That s why world leaders openly laughed at Trump s idiotic nonsense at his NATO speech. He has no understanding of how this works. NATO, as an organization, has its own funding:The North Atlantic alliance has its own military budget worth  1.29 billion ($1.4 billion), which is used to fund some operations and the NATO strategic command center, as well as training and research. But it is miniscule compared to overall spending on defense by NATO countries, which NATO estimates will total more than $921 billion in 2017.The alliance also has a civilian budget of  234.4 million ($252 million), used mainly to fund the NATO headquarters in Belgium, and its administration. (Source)Who pays how much is determined by the size of the economy of each country:The U.S. share is calculated on the basis of gross national income   the total domestic and foreign output claimed by residents of a country   and adjusted regularly. Currently that would be about 22 percent, compared to about 15 percent for Germany, 11 percent for France, 10 percent for the United Kingdom, 8 percent for Italy, 7 percent for Canada, and so forth.When conservatives say the United States pays 22 percent of the budget for NATO, and then list our own defense spending, that s extremely misleading. Let s examine the following paragraph from Fox Business:The United States contributed more than 22 percent of the organization s budget in 2016, according to White House data, far outpacing all other members. The government spent 3.6 percent of GDP, or $664 billion, on defense. The United States  financial commitments to defense have fallen over recent years, down from more than $757.4 billion in 2009. However, President Trump s new budget looks to reverse that trend with a $54 billion injection into the defense sector.Despite the first two sentences being placed side-by-side, they are unrelated. We did pay 22 percent of NATO s budget. We also paid $664 billion for our own defense. Those two numbers are unrelated because we pay NATO less than $500 million per year (PDF). It s almost as if Trump never bothers to read anything, and that the outlets which support him are willing to publish any lie (or truth twisted beyond recognition, to the point of lying, such as in this case) to try and make his ignorant incompetence more palatable.And considering we are the largest member nation by orders of magnitude, and that the American empire has 300,000 soldiers stationed in 150 nations around the globe, it makes sense that we would be spending the most money on our own military. Other member nations do not have a global military force. We have a standing army three times larger than every other member except Turkey. NATO is not responsible for each nation s national defense; there is no collective spending pool for each nation s military. NATO is a military alliance that says  I ve got your back if you get attacked.  The alliance has guidelines   not rules   and advice on how to best allocate funding for national defense in order to prevent war in the first place. Deterrence through preparedness.So when Fox News or Donald Trump tell you our allies aren t paying their fair share for  collective defense,  or that the United States is spending far more to support NATO than they are, that s simply bullshit. That s not NATO s budget   the numbers they are talking about are a guideline for national defense, not NATO. And they re just that   a guideline. There is no penalty for spending less than two percent of GDP on the military. In fact, our bloated and wasteful military budget is not something to brag about. A certain quote by President Dwight Eisenhower comes to mind:Every gun that is made, every warship launched, every rocket fired signifies, in the final sense, a theft from those who hunger and are not fed, those who are cold and are not clothed. This world in arms is not spending money alone. It is spending the sweat of its laborers, the genius of its scientists, the hopes of its children. The cost of one modern heavy bomber is this: a modern brick school in more than 30 cities. It is two electric power plants, each serving a town of 60,000 population. It is two fine, fully equipped hospitals. It is some fifty miles of concrete pavement. We pay for a single fighter with a half-million bushels of wheat. We pay for a single destroyer with new homes that could have housed more than 8,000 people. . . . This is not a way of life at all, in any true sense. Under the cloud of threatening war, it is humanity hanging from a cross of iron.There is one point that I will begrudgingly give Trump   our allies are over-reliant on the fact they have a military juggernaut in their alliance. They are meeting their financial obligations to NATO, despite what Trump says. However, there s a reason that NATO has a two percent guideline for spending on national defense   as stated above, preparedness through deterrence. Right now, for many members, deterrence comes from big brother on the west side of the Atlantic. Yet Trump s misleading rhetoric on this subject is masking the reality   they re already moving to expand their military budgets and have been for three years, thanks to the growing threat of Trump s buddy Putin, who has demonstrated in Ukraine and Georgia that he is willing to violate the sovereignty of and use force against his neighbors.Here s more, via CNN:At a summit in 2014, all members who were falling short promised to move toward the official target within a decade.That pledge appears to be holding: The alliance as a whole increased defense spending for the first time in two decades in 2015.So why don t more countries spend 2% of GDP? Many experts point out that the target is problematic.NATO has warned against a rush to spend for the sake of spending, emphasizing that budget decisions must be based on strategic planning. For example, it wants countries to spend 20% of their defense budgets on equipment.Some member countries simply don t have armies big enough to be able to absorb a huge increase in funding quickly   that s why the 2014 summit pledge gave laggards until 2024 to do more.So, Trump s badgering is pointless. Latvia, for example, increased spending by over 40 percent last year alone. Almost every other member nation is steadily increasing military spending to be on track with the two percent of GDP guideline and the pledge made in 2014, which already solved this problem. In fact, his stance on this issue is somewhat more sinister than just military buildup: he is accomplishing nothing but seeding ill will among our closest allies. Between his blatant disrespect and refusal to directly endorse Article 5, it seems more like he is trying to sabotage NATO than improve it. And notably, we are the only nation to ever invoke Article 5 and call our allies to our defense. Soldiers from other nations fought and died for ours, and now when asked to state we will come to their defense, Trump won t say so. Instead, he demands money he isn t owed.And who benefits from all of this the most?Russia.Featured image via Stefan Rousseau   Pool/Getty Images\"\n        ],\n        \"semantic_type\": \"\",\n        \"description\": \"\"\n      }\n    },\n    {\n      \"column\": \"subject\",\n      \"properties\": {\n        \"dtype\": \"category\",\n        \"num_unique_values\": 2,\n        \"samples\": [\n          \"politicsNews\",\n          \"News\"\n        ],\n        \"semantic_type\": \"\",\n        \"description\": \"\"\n      }\n    },\n    {\n      \"column\": \"date\",\n      \"properties\": {\n        \"dtype\": \"string\",\n        \"num_unique_values\": 5,\n        \"samples\": [\n          \"June 13, 2017\",\n          \"December 20, 2017 \"\n        ],\n        \"semantic_type\": \"\",\n        \"description\": \"\"\n      }\n    },\n    {\n      \"column\": \"label\",\n      \"properties\": {\n        \"dtype\": \"category\",\n        \"num_unique_values\": 2,\n        \"samples\": [\n          \"REAL\",\n          \"FAKE\"\n        ],\n        \"semantic_type\": \"\",\n        \"description\": \"\"\n      }\n    },\n    {\n      \"column\": \"content\",\n      \"properties\": {\n        \"dtype\": \"string\",\n        \"num_unique_values\": 5,\n        \"samples\": [\n          \" How The GOP Became The Party Of White Supremacists Under Donald Trump The Republican Party has always had a problem with racism. That s no accident; after all it was their racist  Southern Strategy  that got them the votes of racist white southerners once the Civil Rights Act was signed. Modern day Republicans like to point out that it was the Democrats who were the party of the Ku Klux Klan and other racists, but the parties switched sides once the Civil Rights Act was signed by President Lyndon B. Johnson, because Southern Democrats couldn t abide the idea of de-segregating the south and starting down the path of trying to kill racism as a matter of policy and practice as they knew it. That s how the racists wound up in the GOP, and the Democrats lost the South for a generation. It s also why, to this day, the GOP has such a hard time with minority voters. However, something amazing has happened to the Republican Party in this area with Donald Trump as its titular head. They have literally become the party of white supremacists   and they aren t even trying to hide it anymore.Just a few years ago, no one would have thought this possible   not even elected Republicans themselves. For instance, when notoriously racist Rep. Steve King ( R- Iowa) made his infamous comment about Mexican immigrants having  calves the size of cantaloupes because they re hauling 75 pounds of marijuana across the desert,  then- House Speaker John Boehner said, from a podium to the press that the comments were  hateful,  and  offensive.  There were also reports that Boehner said privately that King is an  asshole  for saying what he said.That was just three years ago in 2014. To compare, here in 2017, when King made a much worse remark   the infamous and openly white nationalist  we can t restore our civilization with somebody else s babies  tweet   current House Speaker Paul Ryan was tepid in his response, only saying that he is sure that Rep. King  misspoke. To top it all off, King tweeted that in support of far-right Dutch candidate for high office Geert Wilders, who literally wants to outlaw the religion of Islam. Something tells me that if given the chance, Steve King would outlaw Islam in America.Wilders understands that culture and demographics are our destiny. We can't restore our civilization with somebody else's babies. https://t.co/4nxLipafWO  Steve King (@SteveKingIA) March 12, 2017When King doubled down on the remarks, Speaker Ryan said nothing. Further, only a few GOP elected officials had the nerve to rebuke King   almost all of them minorities. This is because these people know who their base is, who Donald Trump s base is, and they know they need the racists and white supremacists that helped propel Trump to the White House to get reelected.This is all perfectly in line with Trump s infamous call to ban Muslims from entering the nation, and of course, there was former New York Mayor and close Trump confidante Rudy Giuliani s admission that Trump asked him to put together a way for him to ban Muslims that would pass Constitutional muster:Then, we get to the Donald Trump campaign itself. Let s not forget   Trump entered the political arena by trying to delegitimize the first Black president by spreading the racist lie that President Barack Obama was not born here, and forcing him to show his birth certificate in a  show me your papers, boy, type of way. Even when Trump let his birtherism go, he still lied and said Hillary Clinton started it.Also, we all remember how long it took Trump to disavow David Duke and the Ku Klux Klan when Jake Tapper asked him about it. Only then did House Speaker Paul Ryan and Senate Majority Leader Mitch McConnell rebuke him. However, that was before Trump had secured the nomination, too. There was radio silence from GOP leadership on the open racism and anti-Semitism and misogyny of the Trump campaign unless they were cornered, as when #NeverTrump conservative radio host Charlie Sykes forced House Speaker Paul Ryan to answer for Trump s repeated retweets of anti-Semitic images.As for the Trump Administration itself   there are no words for the level of bigotry allowed therein. First, we have Trump campaign CEO turned White House Chief Strategist Stephen K. Bannon, who ran the openly racist and anti-Semitic website Breitbart.com prior to joining Trump s campaign. Bannon is a literal white supremacist. He has said that one book that shapes his world view is a French novel called  Camp of Saints,  which fantasizes that immigrants   conveniently of the black and brown variety   are coming to destroy the white race. Every educated analysis of the novel reveals that it is virulently racist  (this is a book that also happens to be a favorite of Steve King). Then, we have head speechwriter and immigration policy maker Stephen Miller, who shares this ideology and has for a long time; after all, this is a guy who spent his high school years harassing Latino students. Then, there is adviser Sebastian Gorka, who wore a medal from a Hungarian Nazi group to Trump s inauguration. The group said they were proud to see Gorka wearing the medal.Through all of these clearly white supremacist appointments, prominent GOP leaders have been silent. Nothing from House Speaker Paul Ryan, Senate Majority Leader Mitch McConnell, or any of the others. In fact, when asked about Bannon, Speaker Ryan only said he hadn t met him. Well, I haven t met David Duke either, but I let his past work inform my opinion of him. When McConnell was asked about Bannon, he was silent, then told the reporters in his office,  It s great to be with you guys today.  Then, aides rushed the reporters out before anyone could press further.What did Senate Majority Leader Mitch McConnell have to say today about Steve Bannon s appointment? Not much. pic.twitter.com/bPZ2UtRkxW  The Last Word (@TheLastWord) November 16, 2016And let s not forget Attorney General Jeff Sessions, the guy who they all say isn t a racist but was deemed too racist to be confirmed to a federal judgeship by a GOP-controlled Senate in Ronald Reagan s administration in 1986. There s also White House Press Secretary Sean Spicer s saying that Nazi leader Adolf Hitler never used chemical weapons   all while referring to Nazi death camps as  Holocaust Centers.  And there is the White House s engaging in Holocaust denial by omitting any mention of Jewish people from their Holocaust Remembrance Day statement. It turns out that this was deliberate, which is definite Holocaust denial because while other minorities died in the Holocaust as well, Hitler s  Final Solution  was to eradicate the Jewish people from the planet. In short, the Holocaust was specifically about Jews, and the White House is deliberately denying this. Here is video of their statements regarding their omission of the original purpose of the Holocaust, and why they deliberately omitted the mention of Jews:I could go on, but you get the picture. The GOP, in the past, had no issue rebuking open white nationalism. They do now because that is literally who they are. There are white supremacists working in the White House, and all throughout Trump s government. And the mainstream leadership of the Republican Party has absolutely no problem with that at all   because the people with those same repugnant ideas are their base. This is who the GOP is.So, I implore you to look at all the evidence provided here and think   if you are a Republican, but you abhor racism, anti-Semitism, and white supremacy, why are you still a member of the GOP?Featured image via BRENDAN SMIALOWSKI/AFP/Getty Images\",\n          \"In Georgia, battle of the 'Staceys' tests Democrats' future ATLANTA (Reuters) - The two Democratic candidates running for governor in Georgia are both lawyers and former state legislators. Both are women, and on many policy issues it\\u2019s hard to tell them apart. Both even share the same first name - Stacey. But they sharply disagree on the path to victory.\\u00a0\\u00a0  Stacey Abrams, 44, wants to become the first African American female governor in the United States by mobilizing solidly Democratic black voters, who vote sporadically in elections, to form a winning coalition with white liberals. Stacey Evans, 39, thinks the math does not add up without\\u00a0also appealing to white moderates, many of them outside urban areas, who voted for President Donald Trump last November. She is highlighting her crossover appeal as a white suburban mother with country roots. Their divergent strategies mirror a wider debate within the Democratic Party that has grown louder after strong turnout by minority voters helped to power recent Democratic victories in Alabama and Virginia. As the party prepares for the 2018 congressional elections, there is disagreement over which voters to spend more time and money on - minority voters who are a fast-growing share of the electorate but do not reliably cast ballots, or blue-collar and suburban whites who swing between parties. (Graphic: tmsnrt.rs/2yYkcHV) Reuters interviews with liberal activist groups, some donors and an examination of campaign finance records show that many on the left are betting on Abrams\\u2019 strategy as the best shot at turning a Republican state.  Underscoring the stakes in Georgia is the unusual attention from national groups seeking to push the party farther left. Their level of early support for Abrams is largely unparalleled among other 2018 gubernatorial and many congressional races. A dozen liberal groups have already thrown support behind Abrams, according to a Reuters tally, even though the Democratic primary, or nominating contest, is still months away. The breadth of that support has been little reported. Abrams, who rouses audiences to near religious fervor describing her struggles growing up poor and black in the South, argues that Democrats have wasted resources on swing voters.  \\u201cWe have left too many voters untouched,\\u201d she said in an interview, noting that she refuses to tone down her support for abortion, gay rights and labor unions to appeal to Republican-leaning voters.  Her opponent does not discount the importance of black voters and also embraces liberal views. But \\u201cyou are going to have to persuade some moderate Republicans to vote for you, if you are going to win in Georgia,\\u201d said Evans, who tears up before crowds when she recounts a childhood spent moving from one rural trailer home to another. After losing the White House last year, the Democratic Party found itself powerless in Washington. Some in the party faulted their presidential nominee, Hillary Clinton, for her lack of outreach to minority voters in key states. Others blamed her inability to connect with working class white voters who were once Democratic. Minorities supported the Democratic ticket by wide margins in 2016, but turnout was flat among Hispanics and sharply lower among African Americans, according to the Pew Research Center. Only half of Georgia\\u2019s black voters cast ballots in 2016, compared to more than two-thirds of whites, a Reuters review of state records showed. The Democratic National Committee said the recent wins in Alabama and Virginia \\u201cshow that Democrats are a force to be reckoned with when we invest early in the communities that represent who we are as a Party.\\u201d  Jennifer Duffy, a political analyst at the nonpartisan Cook Political Report, said boosting Democratic turnout could work as a strategy. But she urged caution - focusing too narrowly on specific demographic groups risks alienating moderate Democrats. And swing voters, especially in suburban areas, also played a role in the recent Democratic victories, she noted. University of Georgia political science professor Charles Bullock agreed the numbers are there if Democrats do not lose more white voters. \\u00a0\\u00a0\\u00a0 At the Abrams campaign headquarters, a poster titled \\u201cHow We Win\\u201d points out that Democrats in Georgia have lost recent elections by some 200,000 votes. More than 1 million black voters did not cast ballots during the last governor\\u2019s race in 2014, state data shows.  \\u00a0\\u00a0\\u00a0\\u00a0\\u201cThey don\\u2019t vote because we don\\u2019t ask, and this is a campaign that is going to keep asking,\\u201d Abrams said, speaking  on a recent evening to an audience of three dozen volunteers. \\u00a0\\u00a0\\u00a0 Abrams, a tax attorney and romance novelist who led Democrats in the state legislature, said her campaign has already reached out to more than 300,000 voters with door knocks, phone calls and text messages.  \\u00a0\\u00a0\\u00a0\\u00a0She hosted summer events with music and barbecue in a dozen smaller cities - places like Macon, a predominately African American community, and tiny Dalton in the rural northern state.  \\u00a0\\u00a0\\u00a0 National liberal activists are lining up endorsements, money and manpower behind Abrams, who is seen as starting with an advantage in a Democratic primary dominated by black voters. Democracy for America, MoveOn Political Action and the Working Families Party call her campaign a model of how to engage the nation\\u2019s increasingly diverse electorate.  \\u00a0\\u00a0\\u00a0\\u00a0\\u201cPolitics is changing in America, and Abrams\\u2019 path to victory reflects the changing demographics and enthusiasm,\\u201d said Dan Cantor, national chairman of the Working Families Party.  \\u00a0\\u00a0\\u00a0 MoveOn, whose recent endorsement of Abrams marked its first in a 2018 governor\\u2019s race, said it would mobilize its 125,000 Georgia members as volunteers for her campaign.  \\u00a0\\u00a0\\u00a0\\u00a0Democracy for America is similarly engaging nearly 35,000 members in the state. Officials said the group has already raised nearly $25,000 for Abrams, an unusually high sum for an election still a year away.  A group called PowerPac is organizing a $10 million get-out-the-vote effort with plans to hire people to contact minority voters and use targeted radio, phone and digital campaigns.  \\u00a0\\u00a0\\u00a0 Individual donors from outside Georgia have contributed more than half of the $470,000 in larger donations that Abrams has reported, according to a Reuters analysis of campaign finance records.\\u00a0Billionaire George Soros, one of the Democratic Party\\u2019s biggest financial backers, and two sons donated $21,000 each. \\u00a0\\u00a0\\u00a0 By contrast, Evans is not receiving many donations from outside of Georgia, nor national endorsements. Her campaign is focused on restoring cuts to a state college scholarship called HOPE. Most of her money has come from in-state donors, who have fueled almost all of her reported $390,000 in major donations. \\u00a0\\u00a0\\u00a0 She has support from Georgia\\u2019s last Democratic governor, as well as a big-name Democratic strategist, Paul Begala, who worked for the governor who created the scholarship.  \\u00a0\\u00a0\\u00a0\\u00a0The Georgia contest reflects divisions between those who want to broaden the Democratic electorate by bringing back voters who have shifted away, and those who want to drill deeper into the party\\u2019s base to increase turnout, said Begala, calling it \\u201can utterly false choice.\\u201d \\u201cIt is like a football team saying, \\u2018Do you play offense, or defense?\\u2019\\u201d Begala said. \\u201cYou have to do both.\\u201d  \\u00a0\\u00a0\\u00a0\\u00a0At a recent barbecue luncheon in Athens, Evans pointed out that she outperformed Clinton last year in her district by 12 percentage points, picking up moderate voters. \\u00a0\\u00a0\\u00a0 \\u201cYou can win in areas where you might not think you are going to have support, if you show up and talk to people,\\u201d she told lawyers lunching on pulled pork served on paper placemats. \\u00a0\\u00a0\\u00a0 Evans is not knocking on voters\\u2019 doors just yet. But she is traveling the state talking to local Democratic organizations and African-American churches.\\u00a0\\u00a0\\u00a0  \\u00a0\\u00a0\\u00a0\\u00a0Lukis Newborn, an undecided rural voter, recently heard Abrams speak in a suburban Atlanta sports bar. He found her exciting. But he also connects with Evans, having been raised in a household where dinner was rice and beans or peanut butter and jelly. \\u201cBoth are a part of me,\\u201d said Newborn, 26, from Paulding County. \\u201cIt\\u2019s an internal struggle of a Georgia Democrat like no other.\\u201d\\u00a0\\u00a0\\u00a0  \"\n        ],\n        \"semantic_type\": \"\",\n        \"description\": \"\"\n      }\n    },\n    {\n      \"column\": \"textLength\",\n      \"properties\": {\n        \"dtype\": \"number\",\n        \"std\": 688,\n        \"min\": 6848,\n        \"max\": 8367,\n        \"num_unique_values\": 5,\n        \"samples\": [\n          7624,\n          8241\n        ],\n        \"semantic_type\": \"\",\n        \"description\": \"\"\n      }\n    }\n  ]\n}"
            }
          },
          "metadata": {}
        }
      ]
    },
    {
      "cell_type": "markdown",
      "source": [
        "**3. Data PrePrecessing**"
      ],
      "metadata": {
        "id": "e3wURks1pI_f"
      }
    },
    {
      "cell_type": "code",
      "source": [
        "import html\n",
        "import re\n",
        "from nltk.corpus import stopwords\n",
        "STOPWORDS = set(stopwords.words('english'))\n",
        "\n",
        "def clean_text(text):\n",
        "    if not isinstance(text, str):\n",
        "        return \"\"\n",
        "    # remove html escapes\n",
        "    text = html.unescape(text)\n",
        "    # remove urls\n",
        "    text = re.sub(r'http\\S+|www\\.\\S+', '', text)\n",
        "    # remove HTML tags\n",
        "    text = re.sub(r'<.*?>', ' ', text)\n",
        "    # keep letters/numbers/space\n",
        "    text = re.sub(r'[^A-Za-z0-9\\s]', ' ', text)\n",
        "    # lowercase\n",
        "    text = text.lower()\n",
        "    # tokenize using regex\n",
        "    tokens = re.findall(r'\\b\\w+\\b', text)\n",
        "    tokens = [t for t in tokens if t not in STOPWORDS and not t.isdigit()]\n",
        "    return ' '.join(tokens)"
      ],
      "metadata": {
        "id": "mgQJldiRpRw3"
      },
      "execution_count": 20,
      "outputs": []
    },
    {
      "cell_type": "code",
      "source": [
        "# Apply (may be slow on millions of rows; sample or batch)\n",
        "dataset['clean_text'] = dataset['content'].apply(clean_text)"
      ],
      "metadata": {
        "id": "opPgBo1fpsxZ"
      },
      "execution_count": 21,
      "outputs": []
    },
    {
      "cell_type": "markdown",
      "source": [
        "**3.1 remove incorrect data**"
      ],
      "metadata": {
        "id": "5C440zvirjWg"
      }
    },
    {
      "cell_type": "code",
      "source": [
        "# Drop rows where clean_text is empty\n",
        "dataset['clean_text'] = dataset['clean_text'].astype(str)\n",
        "dataset = dataset[dataset['clean_text'].str.strip() != \"\"].copy()\n"
      ],
      "metadata": {
        "id": "g80lbPyxrorw"
      },
      "execution_count": 22,
      "outputs": []
    },
    {
      "cell_type": "markdown",
      "source": [
        "**3.2 Handle Duplicates**"
      ],
      "metadata": {
        "id": "k7lsS4TFr0jK"
      }
    },
    {
      "cell_type": "code",
      "source": [
        "dataset = dataset.drop_duplicates(subset=['clean_text']).reset_index(drop=True)"
      ],
      "metadata": {
        "id": "yDlIASLxsBpT"
      },
      "execution_count": 23,
      "outputs": []
    },
    {
      "cell_type": "markdown",
      "source": [
        "**3.3 Handling missing Values**"
      ],
      "metadata": {
        "id": "Mw8krVd6sL69"
      }
    },
    {
      "cell_type": "code",
      "source": [
        "# For Subject\n",
        "dataset['subject'] = dataset['subject'].fillna(dataset['subject'].mode()[0])"
      ],
      "metadata": {
        "id": "LEBZWZbasQZm"
      },
      "execution_count": 24,
      "outputs": []
    },
    {
      "cell_type": "code",
      "source": [
        "#For Numeric\n",
        "dataset['textLength'] = dataset['textLength'].fillna(dataset['textLength'].median())"
      ],
      "metadata": {
        "id": "1-y21M3escOe"
      },
      "execution_count": 25,
      "outputs": []
    },
    {
      "cell_type": "markdown",
      "source": [
        "**3.4 Binning**"
      ],
      "metadata": {
        "id": "_gv1qvicswlh"
      }
    },
    {
      "cell_type": "code",
      "source": [
        "# Equal-width bins\n",
        "bins = [0, 50, 200, 500, 1000, dataset['textLength'].max()+1]\n",
        "labels = ['very_short', 'short', 'medium', 'long', 'very_long']\n",
        "dataset['length_bin'] = pd.cut(dataset['textLength'], bins=bins, labels=labels, include_lowest=True)"
      ],
      "metadata": {
        "id": "d0-EkIiqs0wK"
      },
      "execution_count": 26,
      "outputs": []
    },
    {
      "cell_type": "code",
      "source": [
        "# Replace bin values with bin mean\n",
        "bin_mean = dataset.groupby('length_bin')['textLength'].transform('mean')\n",
        "dataset['length_bin_mean'] = bin_mean"
      ],
      "metadata": {
        "colab": {
          "base_uri": "https://localhost:8080/"
        },
        "id": "Qa_8Ym89tJjk",
        "outputId": "b8ac94c2-69f9-485b-c43b-8ec5026b37ca"
      },
      "execution_count": 27,
      "outputs": [
        {
          "output_type": "stream",
          "name": "stderr",
          "text": [
            "/tmp/ipython-input-3186026227.py:2: FutureWarning: The default of observed=False is deprecated and will be changed to True in a future version of pandas. Pass observed=False to retain current behavior or observed=True to adopt the future default and silence this warning.\n",
            "  bin_mean = dataset.groupby('length_bin')['textLength'].transform('mean')\n"
          ]
        }
      ]
    },
    {
      "cell_type": "markdown",
      "source": [
        "**3.5 regression**"
      ],
      "metadata": {
        "id": "W6nDypt6tg2f"
      }
    },
    {
      "cell_type": "code",
      "source": [
        "from sklearn.feature_extraction.text import TfidfVectorizer\n",
        "from sklearn.cluster import KMeans"
      ],
      "metadata": {
        "id": "pfiLpqohtlzn"
      },
      "execution_count": 28,
      "outputs": []
    },
    {
      "cell_type": "code",
      "source": [
        "# Vectorize a sample\n",
        "sample = dataset.sample(n=min(1000, len(dataset)), random_state=42)\n",
        "vect = TfidfVectorizer(max_features=5000)\n",
        "X = vect.fit_transform(sample['clean_text'])\n",
        "\n",
        "kmeans = KMeans(n_clusters=6, random_state=42, n_init=10) # Added n_init to suppress future warning\n",
        "sample['cluster'] = kmeans.fit_predict(X)"
      ],
      "metadata": {
        "id": "iX2IBFUJtq4n"
      },
      "execution_count": 35,
      "outputs": []
    },
    {
      "cell_type": "code",
      "source": [
        "# Show distribution per cluster\n",
        "print(sample['cluster'].value_counts())"
      ],
      "metadata": {
        "colab": {
          "base_uri": "https://localhost:8080/"
        },
        "id": "s8Kc72bKt6Kx",
        "outputId": "0c63e8c3-be88-4f2b-d948-dd19ed38150b"
      },
      "execution_count": 32,
      "outputs": [
        {
          "output_type": "stream",
          "name": "stdout",
          "text": [
            "cluster\n",
            "4    1786\n",
            "1    1523\n",
            "2     638\n",
            "3     339\n",
            "0     303\n",
            "5     265\n",
            "Name: count, dtype: int64\n"
          ]
        }
      ]
    },
    {
      "cell_type": "markdown",
      "source": [
        "**4. Reduction**"
      ],
      "metadata": {
        "id": "jk9kBfXkuFtb"
      }
    },
    {
      "cell_type": "markdown",
      "source": [
        "**4.1 Dimensionality reduction**"
      ],
      "metadata": {
        "id": "o8wbZ5hryM5h"
      }
    },
    {
      "cell_type": "code",
      "source": [
        "from sklearn.decomposition import TruncatedSVD\n",
        "from sklearn.feature_extraction.text import TfidfVectorizer\n",
        "\n",
        "# create TF-IDF for full\n",
        "vect = TfidfVectorizer(max_df=0.7, min_df=5, max_features=20000)\n",
        "X_tfidf = vect.fit_transform(dataset['clean_text'].sample(n=1000, random_state=42))  # sample for speed\n",
        "\n",
        "svd = TruncatedSVD(n_components=100, random_state=42)\n",
        "X_reduced = svd.fit_transform(X_tfidf)"
      ],
      "metadata": {
        "id": "f-IRXn4GyOrq"
      },
      "execution_count": 36,
      "outputs": []
    },
    {
      "cell_type": "markdown",
      "source": [
        "**4.2 Attribute subset selection**"
      ],
      "metadata": {
        "id": "5it7VggiyjTE"
      }
    },
    {
      "cell_type": "code",
      "source": [
        "from sklearn.feature_selection import SelectKBest, chi2\n",
        "\n",
        "# For selection we need numeric X and y\n",
        "y_sample = (dataset['label'].sample(n=3882, random_state=42) == 'FAKE').astype(int)\n",
        "X_sample = vect.transform(dataset['clean_text'].sample(n=3882, random_state=42))\n",
        "\n",
        "selector = SelectKBest(chi2, k=2000)\n",
        "X_selected = selector.fit_transform(X_sample, y_sample)"
      ],
      "metadata": {
        "id": "S5U_vQxryny1"
      },
      "execution_count": 39,
      "outputs": []
    },
    {
      "cell_type": "markdown",
      "source": [
        "**4.3 Numerosity reduction**"
      ],
      "metadata": {
        "id": "zAXFJOHHy6FP"
      }
    },
    {
      "cell_type": "code",
      "source": [
        "from sklearn.model_selection import train_test_split\n",
        "\n",
        "# Stratified subsampling: keep 80% for training\n",
        "df_train, df_test = train_test_split(dataset, train_size=0.8, stratify=dataset['label'], random_state=42)\n",
        "print(\"Training set size:\", df_train.shape[0])\n",
        "print(\"Testing set size:\", df_test.shape[0])\n",
        "print(\"\\nTraining set label distribution:\\n\", df_train['label'].value_counts())\n",
        "print(\"\\nTesting set label distribution:\\n\", df_test['label'].value_counts())"
      ],
      "metadata": {
        "id": "K2fQxP2ny95o"
      },
      "execution_count": null,
      "outputs": []
    },
    {
      "cell_type": "markdown",
      "source": [
        "**5. Transformation**"
      ],
      "metadata": {
        "id": "z5BQEeh0zKsR"
      }
    },
    {
      "cell_type": "markdown",
      "source": [
        "**5.1 Normalize numeric features**"
      ],
      "metadata": {
        "id": "ymmZyq8UzPsR"
      }
    },
    {
      "cell_type": "code",
      "source": [
        "from sklearn.preprocessing import StandardScaler\n",
        "\n",
        "# Example numeric features\n",
        "dataset['word_count'] = dataset['clean_text'].apply(lambda x: len(x.split()))\n",
        "dataset['avg_word_len'] = dataset['clean_text'].apply(lambda x: np.mean([len(w) for w in x.split()]) if x.split() else 0)\n",
        "\n",
        "scaler = StandardScaler()\n",
        "dataset[['word_count_s', 'avg_word_len_s']] = scaler.fit_transform(dataset[['word_count', 'avg_word_len']])"
      ],
      "metadata": {
        "id": "xkYmlmpRzTUh"
      },
      "execution_count": 40,
      "outputs": []
    },
    {
      "cell_type": "markdown",
      "source": [
        "**5.2 Feature engineering**"
      ],
      "metadata": {
        "id": "E34ePh_azj-U"
      }
    },
    {
      "cell_type": "code",
      "source": [
        "# stopword count\n",
        "dataset['stopword_count'] = dataset['content'].apply(lambda x: sum(1 for w in str(x).split() if w.lower() in STOPWORDS))\n"
      ],
      "metadata": {
        "id": "oJ4hVsBxzl_L"
      },
      "execution_count": 41,
      "outputs": []
    },
    {
      "cell_type": "code",
      "source": [
        "# punctuation count\n",
        "dataset['punct_count'] = dataset['content'].apply(lambda x: sum(1 for c in str(x) if c in string.punctuation))\n"
      ],
      "metadata": {
        "id": "aKPq5gN4zpuk"
      },
      "execution_count": 42,
      "outputs": []
    },
    {
      "cell_type": "code",
      "source": [
        "# uppercase ratio\n",
        "dataset['upper_ratio'] = dataset['content'].apply(lambda x: sum(1 for c in str(x) if c.isupper()) / (len(str(x)) + 1))\n"
      ],
      "metadata": {
        "id": "d8ooOLiizrCE"
      },
      "execution_count": 43,
      "outputs": []
    },
    {
      "cell_type": "markdown",
      "source": [
        "**5.3 Discretization**"
      ],
      "metadata": {
        "id": "m1pA_bKLz-GG"
      }
    },
    {
      "cell_type": "code",
      "source": [
        "#  discretize word_count into 4 bins\n",
        "dataset['word_count_bin'] = pd.qcut(dataset['word_count'], q=4, labels=False)"
      ],
      "metadata": {
        "id": "xoEJaAyRz_xe"
      },
      "execution_count": 44,
      "outputs": []
    },
    {
      "cell_type": "markdown",
      "source": [
        "**5.4 Concept hierarchy generation**"
      ],
      "metadata": {
        "id": "ZES-V5DH0NHQ"
      }
    },
    {
      "cell_type": "code",
      "source": [
        "# Example mapping\n",
        "mapping = {\n",
        "    'Politics': 'News',\n",
        "    'World': 'News',\n",
        "    'Health': 'Health',\n",
        "    'Science': 'Science',\n",
        "    'Tech': 'Technology',\n",
        "    'Business': 'Business'\n",
        "}\n",
        "\n",
        "# Create 'subject_top' column in the dataset DataFrame\n",
        "dataset['subject_top'] = dataset['subject'].map(mapping).fillna('Other')"
      ],
      "metadata": {
        "id": "lKcmwdK20MVI"
      },
      "execution_count": 45,
      "outputs": []
    },
    {
      "cell_type": "markdown",
      "source": [
        "**6. Save Cleaned Data**"
      ],
      "metadata": {
        "id": "DUBwDj8H0Trp"
      }
    },
    {
      "cell_type": "code",
      "source": [
        "# Keep columns needed for modeling\n",
        "cols_to_save = ['title', 'clean_text', 'label', 'textLength', 'word_count', 'avg_word_len',\n",
        "                'stopword_count', 'punct_count', 'upper_ratio', 'subject_top']\n",
        "df_model = dataset[cols_to_save].copy()\n",
        "\n",
        "df_model.to_csv(\"cleaned_Dataset.csv\", index=False)\n",
        "print(\"Saved:\", df_model.shape)"
      ],
      "metadata": {
        "colab": {
          "base_uri": "https://localhost:8080/"
        },
        "id": "RUdj9Epg0ZBS",
        "outputId": "a82b846a-999e-4fd0-c822-76452e516d5f"
      },
      "execution_count": 46,
      "outputs": [
        {
          "output_type": "stream",
          "name": "stdout",
          "text": [
            "Saved: (4854, 10)\n"
          ]
        }
      ]
    },
    {
      "cell_type": "code",
      "source": [
        "# Download The Cleaned Dataset\n",
        "from google.colab import files\n",
        "files.download(\"cleaned_Dataset.csv\")"
      ],
      "metadata": {
        "colab": {
          "base_uri": "https://localhost:8080/",
          "height": 17
        },
        "id": "ruUUgBGd1Giw",
        "outputId": "cea14096-7029-4e99-8b75-d9636183a0e5"
      },
      "execution_count": 47,
      "outputs": [
        {
          "output_type": "display_data",
          "data": {
            "text/plain": [
              "<IPython.core.display.Javascript object>"
            ],
            "application/javascript": [
              "\n",
              "    async function download(id, filename, size) {\n",
              "      if (!google.colab.kernel.accessAllowed) {\n",
              "        return;\n",
              "      }\n",
              "      const div = document.createElement('div');\n",
              "      const label = document.createElement('label');\n",
              "      label.textContent = `Downloading \"${filename}\": `;\n",
              "      div.appendChild(label);\n",
              "      const progress = document.createElement('progress');\n",
              "      progress.max = size;\n",
              "      div.appendChild(progress);\n",
              "      document.body.appendChild(div);\n",
              "\n",
              "      const buffers = [];\n",
              "      let downloaded = 0;\n",
              "\n",
              "      const channel = await google.colab.kernel.comms.open(id);\n",
              "      // Send a message to notify the kernel that we're ready.\n",
              "      channel.send({})\n",
              "\n",
              "      for await (const message of channel.messages) {\n",
              "        // Send a message to notify the kernel that we're ready.\n",
              "        channel.send({})\n",
              "        if (message.buffers) {\n",
              "          for (const buffer of message.buffers) {\n",
              "            buffers.push(buffer);\n",
              "            downloaded += buffer.byteLength;\n",
              "            progress.value = downloaded;\n",
              "          }\n",
              "        }\n",
              "      }\n",
              "      const blob = new Blob(buffers, {type: 'application/binary'});\n",
              "      const a = document.createElement('a');\n",
              "      a.href = window.URL.createObjectURL(blob);\n",
              "      a.download = filename;\n",
              "      div.appendChild(a);\n",
              "      a.click();\n",
              "      div.remove();\n",
              "    }\n",
              "  "
            ]
          },
          "metadata": {}
        },
        {
          "output_type": "display_data",
          "data": {
            "text/plain": [
              "<IPython.core.display.Javascript object>"
            ],
            "application/javascript": [
              "download(\"download_9f0cf18c-310e-484c-b778-eacacfa09c39\", \"cleaned_Dataset.csv\", 9303291)"
            ]
          },
          "metadata": {}
        }
      ]
    }
  ]
}